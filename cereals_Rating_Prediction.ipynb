{
  "nbformat": 4,
  "nbformat_minor": 0,
  "metadata": {
    "colab": {
      "provenance": [],
      "collapsed_sections": [
        "kxYovA_P-m5P",
        "5F4g0IBBfB0E",
        "33m5q_pRV6Vn",
        "-D5aLvtcOVjF",
        "TvfszvpjOWEo",
        "rPsWYJs3OWt3",
        "rZV-aljvOXjy",
        "89q9fTvuacko",
        "ptrdAhHaad47",
        "NbT7juUwae68",
        "6AA1zNPLKd06",
        "SHTQs4lVXS2l",
        "-9Q_sVv6XVpt",
        "7FCB5Md6LWug",
        "HDck5UkpLY4D",
        "TEZouVvKU9aN"
      ],
      "include_colab_link": true
    },
    "kernelspec": {
      "name": "python3",
      "display_name": "Python 3"
    },
    "language_info": {
      "name": "python"
    }
  },
  "cells": [
    {
      "cell_type": "markdown",
      "metadata": {
        "id": "view-in-github",
        "colab_type": "text"
      },
      "source": [
        "<a href=\"https://colab.research.google.com/github/hekmat-ashqer/MLJourney2024/blob/main/cereals_Rating_Prediction.ipynb\" target=\"_parent\"><img src=\"https://colab.research.google.com/assets/colab-badge.svg\" alt=\"Open In Colab\"/></a>"
      ]
    },
    {
      "cell_type": "markdown",
      "source": [
        "# Feature Inspection Exercise (Practice)"
      ],
      "metadata": {
        "id": "QdqQelBwdHk8"
      }
    },
    {
      "cell_type": "markdown",
      "source": [
        "- Student Name: Hikmat Ashqar\n"
      ],
      "metadata": {
        "id": "x8WtghsfgdUK"
      }
    },
    {
      "cell_type": "markdown",
      "source": [
        "Instructions\n",
        "\n",
        "For this task, you will use a modified version of the cereals dataset. You can find the data dictionary on Kaggle.\n",
        "\n",
        "\n",
        "This dataset shows popular cereals by brand and manufacturer, along with nutrition facts. The machine learning question is:\n",
        "\n",
        "\n",
        "How well can the \"rating\" of cereal be predicted using the following features?\n",
        "\n",
        "\n",
        "mfr, type, calories, protein, fat, fiber, sugars, shelf\n",
        "At this point, you are just completing the feature inspection /exploratory data analysis.\n"
      ],
      "metadata": {
        "id": "4ujMnoq5ZlFs"
      }
    },
    {
      "cell_type": "markdown",
      "source": [
        "## EDA Functions"
      ],
      "metadata": {
        "id": "8_z-K9SoeiCm"
      }
    },
    {
      "cell_type": "markdown",
      "source": [
        "### Univariate EDA Functions"
      ],
      "metadata": {
        "id": "lsng7tQxelhG"
      }
    },
    {
      "cell_type": "code",
      "source": [
        "# Basic imports for functions\n",
        "import matplotlib.pyplot as plt\n",
        "import seaborn as sns\n",
        "import warnings\n",
        "warnings.filterwarnings('ignore')\n",
        "\n",
        "# UNIVARIATE PLOTTING FUNCTIONS FOR EDA\n",
        "def explore_categorical(df, x, fillna = True, placeholder = 'MISSING',\n",
        "                        figsize = (6,4), order = None):\n",
        "  \"\"\"Creates a seaborn countplot with the option to temporarily fill missing values\n",
        "  Prints statements about null values, cardinality, and checks for\n",
        "  constant/quasi-constant features.\n",
        "  Source:{PASTE IN FINAL LESSON LINK}\n",
        "  \"\"\"\n",
        "  # Make a copy of the dataframe and fillna\n",
        "  temp_df = df.copy()\n",
        "  # Before filling nulls, save null value counts and percent for printing\n",
        "  null_count = temp_df[x].isna().sum()\n",
        "  null_perc = null_count/len(temp_df)* 100\n",
        "  # fillna with placeholder\n",
        "  if fillna == True:\n",
        "    temp_df[x] = temp_df[x].fillna(placeholder)\n",
        "  # Create figure with desired figsize\n",
        "  fig, ax = plt.subplots(figsize=figsize)\n",
        "  # Plotting a count plot\n",
        "  sns.countplot(data=temp_df, x=x, ax=ax, order=order)\n",
        "  # Rotate Tick Labels for long names\n",
        "  ax.set_xticklabels(ax.get_xticklabels(), rotation=45, ha='right')\n",
        "  # Add a title with the feature name included\n",
        "  ax.set_title(f\"Column: {x}\", fontweight='bold')\n",
        "\n",
        "  # Fix layout and show plot (before print statements)\n",
        "  fig.tight_layout()\n",
        "  plt.show()\n",
        "\n",
        "  # Print null value info\n",
        "  print(f\"- NaN's Found: {null_count} ({round(null_perc,2)}%)\")\n",
        "  # Print cardinality info\n",
        "  nunique = temp_df[x].nunique()\n",
        "  print(f\"- Unique Values: {nunique}\")\n",
        "\n",
        "  # First find value counts of feature\n",
        "  val_counts = temp_df[x].value_counts(dropna=False)\n",
        "  # Define the most common value\n",
        "  most_common_val = val_counts.index[0]\n",
        "  # Define the frequency of the most common value\n",
        "  freq = val_counts.values[0]\n",
        "  # Calculate the percentage of the most common value\n",
        "  perc_most_common = freq / len(temp_df) * 100\n",
        "\n",
        "  # Print the results\n",
        "  print(f\"- Most common value: '{most_common_val}' occurs {freq} times ({round(perc_most_common,2)}%)\")\n",
        "  # print message if quasi-constant or constant (most common val more than 98% of data)\n",
        "  if perc_most_common > 98:\n",
        "    print(f\"\\n- [!] Warning: '{x}' is a constant or quasi-constant feature and should be dropped.\")\n",
        "  else:\n",
        "    print(\"- Not constant or quasi-constant.\")\n",
        "  return fig, ax\n",
        "\n",
        "\n",
        "def explore_numeric(df, x, figsize=(6,5) ):\n",
        "  \"\"\"Creates a seaborn histplot and boxplot with a share x-axis,\n",
        "  Prints statements about null values, cardinality, and checks for\n",
        "  constant/quasi-constant features.\n",
        "  Source:{PASTE IN FINAL LESSON LINK}\n",
        "  \"\"\"\n",
        "\n",
        "  ## Save null value counts and percent for printing\n",
        "  null_count = df[x].isna().sum()\n",
        "  null_perc = null_count/len(df)* 100\n",
        "\n",
        "\n",
        "  ## Making our figure with gridspec for subplots\n",
        "  gridspec = {'height_ratios':[0.7,0.3]}\n",
        "  fig, axes = plt.subplots(nrows=2, figsize=figsize,\n",
        "                           sharex=True, gridspec_kw=gridspec)\n",
        "  # Histogram on Top\n",
        "  sns.histplot(data=df, x=x, ax=axes[0])\n",
        "\n",
        "  # Boxplot on Bottom\n",
        "  sns.boxplot(data=df, x=x, ax=axes[1])\n",
        "\n",
        "  ## Adding a title\n",
        "  axes[0].set_title(f\"Column: {x}\", fontweight='bold')\n",
        "\n",
        "  ## Adjusting subplots to best fill Figure\n",
        "  fig.tight_layout()\n",
        "\n",
        "  # Ensure plot is shown before message\n",
        "  plt.show()\n",
        "\n",
        "\n",
        "  # Print null value info\n",
        "  print(f\"- NaN's Found: {null_count} ({round(null_perc,2)}%)\")\n",
        "  # Print cardinality info\n",
        "  nunique = df[x].nunique()\n",
        "  print(f\"- Unique Values: {nunique}\")\n",
        "\n",
        "\n",
        "  # Get the most most common value, its count as # and as %\n",
        "  most_common_val_count = df[x].value_counts(dropna=False).head(1)\n",
        "  most_common_val = most_common_val_count.index[0]\n",
        "  freq = most_common_val_count.values[0]\n",
        "  perc_most_common = freq / len(df) * 100\n",
        "\n",
        "  print(f\"- Most common value: '{most_common_val}' occurs {freq} times ({round(perc_most_common,2)}%)\")\n",
        "\n",
        "  # print message if quasi-constant or constant (most common val more than 98% of data)\n",
        "  if perc_most_common > 98:\n",
        "    print(f\"\\n- [!] Warning: '{x}' is a constant or quasi-constant feature and should be dropped.\")\n",
        "  else:\n",
        "    print(\"- Not constant or quasi-constant.\")\n",
        "  return fig, axes\n"
      ],
      "metadata": {
        "id": "MpERWZ3we2ny"
      },
      "execution_count": 99,
      "outputs": []
    },
    {
      "cell_type": "markdown",
      "source": [
        "### Multivariate Feature vs. Target Functions."
      ],
      "metadata": {
        "id": "J9y4NiACesSa"
      }
    },
    {
      "cell_type": "code",
      "source": [
        "\"\"\"MULTIVARIATE PLOTTING FUNCTIONS VS. NUMERIC TARGET\"\"\"\n",
        "\n",
        "def plot_categorical_vs_target(df, x, y='charges',figsize=(6,4),\n",
        "                            fillna = True, placeholder = 'MISSING',\n",
        "                            order = None):\n",
        "  \"\"\"Plots a combination of a seaborn barplot of means combined with\n",
        "  a seaborn stripplot to show the spread of the data.\n",
        "  Source:{PASTE IN FINAL LESSON LINK}\n",
        "  \"\"\"\n",
        "  # Make a copy of the dataframe and fillna\n",
        "  temp_df = df.copy()\n",
        "  # fillna with placeholder\n",
        "  if fillna == True:\n",
        "    temp_df[x] = temp_df[x].fillna(placeholder)\n",
        "\n",
        "  # or drop nulls prevent unwanted 'nan' group in stripplot\n",
        "  else:\n",
        "    temp_df = temp_df.dropna(subset=[x])\n",
        "  # Create the figure and subplots\n",
        "  fig, ax = plt.subplots(figsize=figsize)\n",
        "\n",
        "    # Barplot\n",
        "  sns.barplot(data=temp_df, x=x, y=y, ax=ax, order=order, alpha=0.6,\n",
        "              linewidth=1, edgecolor='black', errorbar=None)\n",
        "\n",
        "  # Boxplot\n",
        "  sns.stripplot(data=temp_df, x=x, y=y, hue=x, ax=ax,\n",
        "                order=order, hue_order=order, legend=False,\n",
        "                edgecolor='white', linewidth=0.5,\n",
        "                size=3,zorder=0)\n",
        "  # Rotate xlabels\n",
        "  ax.set_xticklabels(ax.get_xticklabels(), rotation=45, ha='right')\n",
        "\n",
        "  # Add a title\n",
        "  ax.set_title(f\"{x} vs. {y}\", fontweight='bold')\n",
        "  fig.tight_layout()\n",
        "  return fig, ax\n",
        "\n",
        "\n",
        "def plot_numeric_vs_target(df, x, y='charges',\n",
        "                           figsize=(6,4)):\n",
        "  \"\"\"Plots a seaborn regplot with Pearson's correlation (r) added\n",
        "  to the title.\n",
        "  Source:{PASTE IN FINAL LESSON LINK}\n",
        "  \"\"\"\n",
        "  # Calculate the correlation\n",
        "  corr = df[[x,y]].corr().round(2)\n",
        "  r = corr.loc[x,y]\n",
        "\n",
        "  # Plot the data\n",
        "  fig, ax = plt.subplots(figsize=figsize)\n",
        "  scatter_kws={'ec':'white','lw':1,'alpha':0.8}\n",
        "  sns.regplot(data=df, x=x, y=y, ax=ax, scatter_kws=scatter_kws)\n",
        "\n",
        "  ## Add the title with the correlation\n",
        "  ax.set_title(f\"{x} vs. {y} (r = {r})\", fontweight='bold')\n",
        "\n",
        "  # Make sure the plot is shown before the print statement\n",
        "  plt.show()\n",
        "\n",
        "  return fig, ax"
      ],
      "metadata": {
        "id": "Oc90HYFpehRE"
      },
      "execution_count": 100,
      "outputs": []
    },
    {
      "cell_type": "markdown",
      "source": [
        "# Your Work Here:"
      ],
      "metadata": {
        "id": "fb_drsx1gq6G"
      }
    },
    {
      "cell_type": "markdown",
      "source": [
        "## Import Packages and Load Data"
      ],
      "metadata": {
        "id": "lLoNSpsthh8E"
      }
    },
    {
      "cell_type": "markdown",
      "source": [
        "### Data Dictionary"
      ],
      "metadata": {
        "id": "kxYovA_P-m5P"
      }
    },
    {
      "cell_type": "markdown",
      "source": [
        "*\tName: Name of cereal\n",
        "\n",
        "*\tmfr: Manufacturer of cereal\n",
        "\t* A = American Home Food Products;\n",
        "\t* G = General Mills\n",
        "\t* K = Kelloggs\n",
        "\t* N = Nabisco\n",
        "\t* P = Post\n",
        "\t* Q = Quaker Oats\n",
        "\t* R = Ralston Purina\n",
        "*\ttype:\n",
        "  *\tcold\n",
        "  *\thot\n",
        "*\tcalories: calories per serving\n",
        "*\tprotein: grams of protein\n",
        "*\tfat: grams of fat\n",
        "*\tsodium: milligrams of sodium\n",
        "*\tfiber: grams of dietary fiber\n",
        "*\tcarbo: grams of complex carbohydrates\n",
        "*\tsugars: grams of sugars\n",
        "*\tpotass: milligrams of potassium\n",
        "*\tvitamins: vitamins and minerals - 0, 25, or 100, indicating the typical percentage of FDA recommended\n",
        "*\tshelf: display shelf (1, 2, or 3, counting from the floor)\n",
        "*\tweight: weight in ounces of one serving\n",
        "*\tcups: number of cups in one serving\n",
        "*\trating: a rating of the cereals (Possibly from Consumer Reports?)\n"
      ],
      "metadata": {
        "id": "3NZZFIyK-qem"
      }
    },
    {
      "cell_type": "markdown",
      "source": [
        "### Data Load"
      ],
      "metadata": {
        "id": "M-byuCZ6-w4X"
      }
    },
    {
      "cell_type": "code",
      "source": [
        "# imports\n",
        "import pandas as pd\n"
      ],
      "metadata": {
        "id": "0wp_GTUng0El"
      },
      "execution_count": 101,
      "outputs": []
    },
    {
      "cell_type": "code",
      "source": [
        "path= \"/content/drive/MyDrive/Colab Notebooks/First stack/Data sets/cereal-kaggle-crawford-modified-sheet-1.csv\"\n",
        "df = pd.read_csv(path)\n",
        "df.head()\n",
        "df.info()\n",
        "temp_df = df.copy()"
      ],
      "metadata": {
        "id": "St1IwY61-lez",
        "colab": {
          "base_uri": "https://localhost:8080/"
        },
        "outputId": "f5817b92-27e2-456e-91d3-5cc0a8781000"
      },
      "execution_count": 102,
      "outputs": [
        {
          "output_type": "stream",
          "name": "stdout",
          "text": [
            "<class 'pandas.core.frame.DataFrame'>\n",
            "RangeIndex: 77 entries, 0 to 76\n",
            "Data columns (total 16 columns):\n",
            " #   Column    Non-Null Count  Dtype  \n",
            "---  ------    --------------  -----  \n",
            " 0   name      77 non-null     object \n",
            " 1   mfr       75 non-null     object \n",
            " 2   type      77 non-null     object \n",
            " 3   calories  72 non-null     float64\n",
            " 4   protein   77 non-null     int64  \n",
            " 5   fat       70 non-null     float64\n",
            " 6   sodium    77 non-null     int64  \n",
            " 7   fiber     71 non-null     float64\n",
            " 8   carbo     77 non-null     float64\n",
            " 9   sugars    71 non-null     float64\n",
            " 10  potass    77 non-null     int64  \n",
            " 11  vitamins  77 non-null     int64  \n",
            " 12  shelf     75 non-null     object \n",
            " 13  weight    77 non-null     float64\n",
            " 14  cups      77 non-null     float64\n",
            " 15  rating    77 non-null     float64\n",
            "dtypes: float64(8), int64(4), object(4)\n",
            "memory usage: 9.8+ KB\n"
          ]
        }
      ]
    },
    {
      "cell_type": "code",
      "source": [
        "# we identify list of needed columns as requested\n",
        "columns_needed = ['mfr', 'type', 'calories', 'protein', 'fat', 'fiber', 'sugars', 'shelf','rating']\n",
        "# Select only the columns in columns_needed\n",
        "df_filtered = df[columns_needed]\n",
        "# Calculate the columns to drop\n",
        "columns_to_drop = df.columns.difference(columns_needed)\n",
        "columns_to_drop\n",
        "# Drop these columns\n",
        "df = df.drop(columns=columns_to_drop)\n",
        "df"
      ],
      "metadata": {
        "colab": {
          "base_uri": "https://localhost:8080/",
          "height": 423
        },
        "id": "ruP_5EkWAhwD",
        "outputId": "111eb82d-69a1-424b-f267-0c0bff1457b9"
      },
      "execution_count": 103,
      "outputs": [
        {
          "output_type": "execute_result",
          "data": {
            "text/plain": [
              "   mfr type  calories  protein  fat  fiber  sugars   shelf     rating\n",
              "0    N    C       NaN        4  1.0   10.0     6.0     top  68.402973\n",
              "1    Q    C     120.0        3  5.0    2.0     8.0     top  33.983679\n",
              "2    K    C      70.0        4  1.0    9.0     5.0     top  59.425505\n",
              "3    K    C      50.0        4  0.0   14.0     0.0     top  93.704912\n",
              "4    R    C       NaN        2  2.0    1.0     8.0     NaN  34.384843\n",
              "..  ..  ...       ...      ...  ...    ...     ...     ...        ...\n",
              "72   G    C     110.0        2  1.0    0.0     3.0     top  39.106174\n",
              "73   G    C     110.0        1  1.0    0.0    12.0  middle  27.753301\n",
              "74   R    C     100.0        3  1.0    3.0     3.0  bottom  49.787445\n",
              "75   G    C     100.0        3  1.0    3.0     3.0  bottom  51.592193\n",
              "76   G    C     110.0        2  1.0    1.0     8.0  bottom  36.187559\n",
              "\n",
              "[77 rows x 9 columns]"
            ],
            "text/html": [
              "\n",
              "  <div id=\"df-c57d6914-31f1-4a4c-a00a-00b622997eab\" class=\"colab-df-container\">\n",
              "    <div>\n",
              "<style scoped>\n",
              "    .dataframe tbody tr th:only-of-type {\n",
              "        vertical-align: middle;\n",
              "    }\n",
              "\n",
              "    .dataframe tbody tr th {\n",
              "        vertical-align: top;\n",
              "    }\n",
              "\n",
              "    .dataframe thead th {\n",
              "        text-align: right;\n",
              "    }\n",
              "</style>\n",
              "<table border=\"1\" class=\"dataframe\">\n",
              "  <thead>\n",
              "    <tr style=\"text-align: right;\">\n",
              "      <th></th>\n",
              "      <th>mfr</th>\n",
              "      <th>type</th>\n",
              "      <th>calories</th>\n",
              "      <th>protein</th>\n",
              "      <th>fat</th>\n",
              "      <th>fiber</th>\n",
              "      <th>sugars</th>\n",
              "      <th>shelf</th>\n",
              "      <th>rating</th>\n",
              "    </tr>\n",
              "  </thead>\n",
              "  <tbody>\n",
              "    <tr>\n",
              "      <th>0</th>\n",
              "      <td>N</td>\n",
              "      <td>C</td>\n",
              "      <td>NaN</td>\n",
              "      <td>4</td>\n",
              "      <td>1.0</td>\n",
              "      <td>10.0</td>\n",
              "      <td>6.0</td>\n",
              "      <td>top</td>\n",
              "      <td>68.402973</td>\n",
              "    </tr>\n",
              "    <tr>\n",
              "      <th>1</th>\n",
              "      <td>Q</td>\n",
              "      <td>C</td>\n",
              "      <td>120.0</td>\n",
              "      <td>3</td>\n",
              "      <td>5.0</td>\n",
              "      <td>2.0</td>\n",
              "      <td>8.0</td>\n",
              "      <td>top</td>\n",
              "      <td>33.983679</td>\n",
              "    </tr>\n",
              "    <tr>\n",
              "      <th>2</th>\n",
              "      <td>K</td>\n",
              "      <td>C</td>\n",
              "      <td>70.0</td>\n",
              "      <td>4</td>\n",
              "      <td>1.0</td>\n",
              "      <td>9.0</td>\n",
              "      <td>5.0</td>\n",
              "      <td>top</td>\n",
              "      <td>59.425505</td>\n",
              "    </tr>\n",
              "    <tr>\n",
              "      <th>3</th>\n",
              "      <td>K</td>\n",
              "      <td>C</td>\n",
              "      <td>50.0</td>\n",
              "      <td>4</td>\n",
              "      <td>0.0</td>\n",
              "      <td>14.0</td>\n",
              "      <td>0.0</td>\n",
              "      <td>top</td>\n",
              "      <td>93.704912</td>\n",
              "    </tr>\n",
              "    <tr>\n",
              "      <th>4</th>\n",
              "      <td>R</td>\n",
              "      <td>C</td>\n",
              "      <td>NaN</td>\n",
              "      <td>2</td>\n",
              "      <td>2.0</td>\n",
              "      <td>1.0</td>\n",
              "      <td>8.0</td>\n",
              "      <td>NaN</td>\n",
              "      <td>34.384843</td>\n",
              "    </tr>\n",
              "    <tr>\n",
              "      <th>...</th>\n",
              "      <td>...</td>\n",
              "      <td>...</td>\n",
              "      <td>...</td>\n",
              "      <td>...</td>\n",
              "      <td>...</td>\n",
              "      <td>...</td>\n",
              "      <td>...</td>\n",
              "      <td>...</td>\n",
              "      <td>...</td>\n",
              "    </tr>\n",
              "    <tr>\n",
              "      <th>72</th>\n",
              "      <td>G</td>\n",
              "      <td>C</td>\n",
              "      <td>110.0</td>\n",
              "      <td>2</td>\n",
              "      <td>1.0</td>\n",
              "      <td>0.0</td>\n",
              "      <td>3.0</td>\n",
              "      <td>top</td>\n",
              "      <td>39.106174</td>\n",
              "    </tr>\n",
              "    <tr>\n",
              "      <th>73</th>\n",
              "      <td>G</td>\n",
              "      <td>C</td>\n",
              "      <td>110.0</td>\n",
              "      <td>1</td>\n",
              "      <td>1.0</td>\n",
              "      <td>0.0</td>\n",
              "      <td>12.0</td>\n",
              "      <td>middle</td>\n",
              "      <td>27.753301</td>\n",
              "    </tr>\n",
              "    <tr>\n",
              "      <th>74</th>\n",
              "      <td>R</td>\n",
              "      <td>C</td>\n",
              "      <td>100.0</td>\n",
              "      <td>3</td>\n",
              "      <td>1.0</td>\n",
              "      <td>3.0</td>\n",
              "      <td>3.0</td>\n",
              "      <td>bottom</td>\n",
              "      <td>49.787445</td>\n",
              "    </tr>\n",
              "    <tr>\n",
              "      <th>75</th>\n",
              "      <td>G</td>\n",
              "      <td>C</td>\n",
              "      <td>100.0</td>\n",
              "      <td>3</td>\n",
              "      <td>1.0</td>\n",
              "      <td>3.0</td>\n",
              "      <td>3.0</td>\n",
              "      <td>bottom</td>\n",
              "      <td>51.592193</td>\n",
              "    </tr>\n",
              "    <tr>\n",
              "      <th>76</th>\n",
              "      <td>G</td>\n",
              "      <td>C</td>\n",
              "      <td>110.0</td>\n",
              "      <td>2</td>\n",
              "      <td>1.0</td>\n",
              "      <td>1.0</td>\n",
              "      <td>8.0</td>\n",
              "      <td>bottom</td>\n",
              "      <td>36.187559</td>\n",
              "    </tr>\n",
              "  </tbody>\n",
              "</table>\n",
              "<p>77 rows × 9 columns</p>\n",
              "</div>\n",
              "    <div class=\"colab-df-buttons\">\n",
              "\n",
              "  <div class=\"colab-df-container\">\n",
              "    <button class=\"colab-df-convert\" onclick=\"convertToInteractive('df-c57d6914-31f1-4a4c-a00a-00b622997eab')\"\n",
              "            title=\"Convert this dataframe to an interactive table.\"\n",
              "            style=\"display:none;\">\n",
              "\n",
              "  <svg xmlns=\"http://www.w3.org/2000/svg\" height=\"24px\" viewBox=\"0 -960 960 960\">\n",
              "    <path d=\"M120-120v-720h720v720H120Zm60-500h600v-160H180v160Zm220 220h160v-160H400v160Zm0 220h160v-160H400v160ZM180-400h160v-160H180v160Zm440 0h160v-160H620v160ZM180-180h160v-160H180v160Zm440 0h160v-160H620v160Z\"/>\n",
              "  </svg>\n",
              "    </button>\n",
              "\n",
              "  <style>\n",
              "    .colab-df-container {\n",
              "      display:flex;\n",
              "      gap: 12px;\n",
              "    }\n",
              "\n",
              "    .colab-df-convert {\n",
              "      background-color: #E8F0FE;\n",
              "      border: none;\n",
              "      border-radius: 50%;\n",
              "      cursor: pointer;\n",
              "      display: none;\n",
              "      fill: #1967D2;\n",
              "      height: 32px;\n",
              "      padding: 0 0 0 0;\n",
              "      width: 32px;\n",
              "    }\n",
              "\n",
              "    .colab-df-convert:hover {\n",
              "      background-color: #E2EBFA;\n",
              "      box-shadow: 0px 1px 2px rgba(60, 64, 67, 0.3), 0px 1px 3px 1px rgba(60, 64, 67, 0.15);\n",
              "      fill: #174EA6;\n",
              "    }\n",
              "\n",
              "    .colab-df-buttons div {\n",
              "      margin-bottom: 4px;\n",
              "    }\n",
              "\n",
              "    [theme=dark] .colab-df-convert {\n",
              "      background-color: #3B4455;\n",
              "      fill: #D2E3FC;\n",
              "    }\n",
              "\n",
              "    [theme=dark] .colab-df-convert:hover {\n",
              "      background-color: #434B5C;\n",
              "      box-shadow: 0px 1px 3px 1px rgba(0, 0, 0, 0.15);\n",
              "      filter: drop-shadow(0px 1px 2px rgba(0, 0, 0, 0.3));\n",
              "      fill: #FFFFFF;\n",
              "    }\n",
              "  </style>\n",
              "\n",
              "    <script>\n",
              "      const buttonEl =\n",
              "        document.querySelector('#df-c57d6914-31f1-4a4c-a00a-00b622997eab button.colab-df-convert');\n",
              "      buttonEl.style.display =\n",
              "        google.colab.kernel.accessAllowed ? 'block' : 'none';\n",
              "\n",
              "      async function convertToInteractive(key) {\n",
              "        const element = document.querySelector('#df-c57d6914-31f1-4a4c-a00a-00b622997eab');\n",
              "        const dataTable =\n",
              "          await google.colab.kernel.invokeFunction('convertToInteractive',\n",
              "                                                    [key], {});\n",
              "        if (!dataTable) return;\n",
              "\n",
              "        const docLinkHtml = 'Like what you see? Visit the ' +\n",
              "          '<a target=\"_blank\" href=https://colab.research.google.com/notebooks/data_table.ipynb>data table notebook</a>'\n",
              "          + ' to learn more about interactive tables.';\n",
              "        element.innerHTML = '';\n",
              "        dataTable['output_type'] = 'display_data';\n",
              "        await google.colab.output.renderOutput(dataTable, element);\n",
              "        const docLink = document.createElement('div');\n",
              "        docLink.innerHTML = docLinkHtml;\n",
              "        element.appendChild(docLink);\n",
              "      }\n",
              "    </script>\n",
              "  </div>\n",
              "\n",
              "\n",
              "<div id=\"df-23c4826c-2a69-4547-987a-e8477baa0985\">\n",
              "  <button class=\"colab-df-quickchart\" onclick=\"quickchart('df-23c4826c-2a69-4547-987a-e8477baa0985')\"\n",
              "            title=\"Suggest charts\"\n",
              "            style=\"display:none;\">\n",
              "\n",
              "<svg xmlns=\"http://www.w3.org/2000/svg\" height=\"24px\"viewBox=\"0 0 24 24\"\n",
              "     width=\"24px\">\n",
              "    <g>\n",
              "        <path d=\"M19 3H5c-1.1 0-2 .9-2 2v14c0 1.1.9 2 2 2h14c1.1 0 2-.9 2-2V5c0-1.1-.9-2-2-2zM9 17H7v-7h2v7zm4 0h-2V7h2v10zm4 0h-2v-4h2v4z\"/>\n",
              "    </g>\n",
              "</svg>\n",
              "  </button>\n",
              "\n",
              "<style>\n",
              "  .colab-df-quickchart {\n",
              "      --bg-color: #E8F0FE;\n",
              "      --fill-color: #1967D2;\n",
              "      --hover-bg-color: #E2EBFA;\n",
              "      --hover-fill-color: #174EA6;\n",
              "      --disabled-fill-color: #AAA;\n",
              "      --disabled-bg-color: #DDD;\n",
              "  }\n",
              "\n",
              "  [theme=dark] .colab-df-quickchart {\n",
              "      --bg-color: #3B4455;\n",
              "      --fill-color: #D2E3FC;\n",
              "      --hover-bg-color: #434B5C;\n",
              "      --hover-fill-color: #FFFFFF;\n",
              "      --disabled-bg-color: #3B4455;\n",
              "      --disabled-fill-color: #666;\n",
              "  }\n",
              "\n",
              "  .colab-df-quickchart {\n",
              "    background-color: var(--bg-color);\n",
              "    border: none;\n",
              "    border-radius: 50%;\n",
              "    cursor: pointer;\n",
              "    display: none;\n",
              "    fill: var(--fill-color);\n",
              "    height: 32px;\n",
              "    padding: 0;\n",
              "    width: 32px;\n",
              "  }\n",
              "\n",
              "  .colab-df-quickchart:hover {\n",
              "    background-color: var(--hover-bg-color);\n",
              "    box-shadow: 0 1px 2px rgba(60, 64, 67, 0.3), 0 1px 3px 1px rgba(60, 64, 67, 0.15);\n",
              "    fill: var(--button-hover-fill-color);\n",
              "  }\n",
              "\n",
              "  .colab-df-quickchart-complete:disabled,\n",
              "  .colab-df-quickchart-complete:disabled:hover {\n",
              "    background-color: var(--disabled-bg-color);\n",
              "    fill: var(--disabled-fill-color);\n",
              "    box-shadow: none;\n",
              "  }\n",
              "\n",
              "  .colab-df-spinner {\n",
              "    border: 2px solid var(--fill-color);\n",
              "    border-color: transparent;\n",
              "    border-bottom-color: var(--fill-color);\n",
              "    animation:\n",
              "      spin 1s steps(1) infinite;\n",
              "  }\n",
              "\n",
              "  @keyframes spin {\n",
              "    0% {\n",
              "      border-color: transparent;\n",
              "      border-bottom-color: var(--fill-color);\n",
              "      border-left-color: var(--fill-color);\n",
              "    }\n",
              "    20% {\n",
              "      border-color: transparent;\n",
              "      border-left-color: var(--fill-color);\n",
              "      border-top-color: var(--fill-color);\n",
              "    }\n",
              "    30% {\n",
              "      border-color: transparent;\n",
              "      border-left-color: var(--fill-color);\n",
              "      border-top-color: var(--fill-color);\n",
              "      border-right-color: var(--fill-color);\n",
              "    }\n",
              "    40% {\n",
              "      border-color: transparent;\n",
              "      border-right-color: var(--fill-color);\n",
              "      border-top-color: var(--fill-color);\n",
              "    }\n",
              "    60% {\n",
              "      border-color: transparent;\n",
              "      border-right-color: var(--fill-color);\n",
              "    }\n",
              "    80% {\n",
              "      border-color: transparent;\n",
              "      border-right-color: var(--fill-color);\n",
              "      border-bottom-color: var(--fill-color);\n",
              "    }\n",
              "    90% {\n",
              "      border-color: transparent;\n",
              "      border-bottom-color: var(--fill-color);\n",
              "    }\n",
              "  }\n",
              "</style>\n",
              "\n",
              "  <script>\n",
              "    async function quickchart(key) {\n",
              "      const quickchartButtonEl =\n",
              "        document.querySelector('#' + key + ' button');\n",
              "      quickchartButtonEl.disabled = true;  // To prevent multiple clicks.\n",
              "      quickchartButtonEl.classList.add('colab-df-spinner');\n",
              "      try {\n",
              "        const charts = await google.colab.kernel.invokeFunction(\n",
              "            'suggestCharts', [key], {});\n",
              "      } catch (error) {\n",
              "        console.error('Error during call to suggestCharts:', error);\n",
              "      }\n",
              "      quickchartButtonEl.classList.remove('colab-df-spinner');\n",
              "      quickchartButtonEl.classList.add('colab-df-quickchart-complete');\n",
              "    }\n",
              "    (() => {\n",
              "      let quickchartButtonEl =\n",
              "        document.querySelector('#df-23c4826c-2a69-4547-987a-e8477baa0985 button');\n",
              "      quickchartButtonEl.style.display =\n",
              "        google.colab.kernel.accessAllowed ? 'block' : 'none';\n",
              "    })();\n",
              "  </script>\n",
              "</div>\n",
              "\n",
              "  <div id=\"id_692e1e32-f197-4c06-85dd-5d93ebdb12be\">\n",
              "    <style>\n",
              "      .colab-df-generate {\n",
              "        background-color: #E8F0FE;\n",
              "        border: none;\n",
              "        border-radius: 50%;\n",
              "        cursor: pointer;\n",
              "        display: none;\n",
              "        fill: #1967D2;\n",
              "        height: 32px;\n",
              "        padding: 0 0 0 0;\n",
              "        width: 32px;\n",
              "      }\n",
              "\n",
              "      .colab-df-generate:hover {\n",
              "        background-color: #E2EBFA;\n",
              "        box-shadow: 0px 1px 2px rgba(60, 64, 67, 0.3), 0px 1px 3px 1px rgba(60, 64, 67, 0.15);\n",
              "        fill: #174EA6;\n",
              "      }\n",
              "\n",
              "      [theme=dark] .colab-df-generate {\n",
              "        background-color: #3B4455;\n",
              "        fill: #D2E3FC;\n",
              "      }\n",
              "\n",
              "      [theme=dark] .colab-df-generate:hover {\n",
              "        background-color: #434B5C;\n",
              "        box-shadow: 0px 1px 3px 1px rgba(0, 0, 0, 0.15);\n",
              "        filter: drop-shadow(0px 1px 2px rgba(0, 0, 0, 0.3));\n",
              "        fill: #FFFFFF;\n",
              "      }\n",
              "    </style>\n",
              "    <button class=\"colab-df-generate\" onclick=\"generateWithVariable('df')\"\n",
              "            title=\"Generate code using this dataframe.\"\n",
              "            style=\"display:none;\">\n",
              "\n",
              "  <svg xmlns=\"http://www.w3.org/2000/svg\" height=\"24px\"viewBox=\"0 0 24 24\"\n",
              "       width=\"24px\">\n",
              "    <path d=\"M7,19H8.4L18.45,9,17,7.55,7,17.6ZM5,21V16.75L18.45,3.32a2,2,0,0,1,2.83,0l1.4,1.43a1.91,1.91,0,0,1,.58,1.4,1.91,1.91,0,0,1-.58,1.4L9.25,21ZM18.45,9,17,7.55Zm-12,3A5.31,5.31,0,0,0,4.9,8.1,5.31,5.31,0,0,0,1,6.5,5.31,5.31,0,0,0,4.9,4.9,5.31,5.31,0,0,0,6.5,1,5.31,5.31,0,0,0,8.1,4.9,5.31,5.31,0,0,0,12,6.5,5.46,5.46,0,0,0,6.5,12Z\"/>\n",
              "  </svg>\n",
              "    </button>\n",
              "    <script>\n",
              "      (() => {\n",
              "      const buttonEl =\n",
              "        document.querySelector('#id_692e1e32-f197-4c06-85dd-5d93ebdb12be button.colab-df-generate');\n",
              "      buttonEl.style.display =\n",
              "        google.colab.kernel.accessAllowed ? 'block' : 'none';\n",
              "\n",
              "      buttonEl.onclick = () => {\n",
              "        google.colab.notebook.generateWithVariable('df');\n",
              "      }\n",
              "      })();\n",
              "    </script>\n",
              "  </div>\n",
              "\n",
              "    </div>\n",
              "  </div>\n"
            ],
            "application/vnd.google.colaboratory.intrinsic+json": {
              "type": "dataframe",
              "variable_name": "df",
              "summary": "{\n  \"name\": \"df\",\n  \"rows\": 77,\n  \"fields\": [\n    {\n      \"column\": \"mfr\",\n      \"properties\": {\n        \"dtype\": \"category\",\n        \"num_unique_values\": 7,\n        \"samples\": [\n          \"N\",\n          \"Q\",\n          \"P\"\n        ],\n        \"semantic_type\": \"\",\n        \"description\": \"\"\n      }\n    },\n    {\n      \"column\": \"type\",\n      \"properties\": {\n        \"dtype\": \"category\",\n        \"num_unique_values\": 2,\n        \"samples\": [\n          \"H\",\n          \"C\"\n        ],\n        \"semantic_type\": \"\",\n        \"description\": \"\"\n      }\n    },\n    {\n      \"column\": \"calories\",\n      \"properties\": {\n        \"dtype\": \"number\",\n        \"std\": 18.86240433612834,\n        \"min\": 50.0,\n        \"max\": 160.0,\n        \"num_unique_values\": 11,\n        \"samples\": [\n          90.0,\n          120.0\n        ],\n        \"semantic_type\": \"\",\n        \"description\": \"\"\n      }\n    },\n    {\n      \"column\": \"protein\",\n      \"properties\": {\n        \"dtype\": \"number\",\n        \"std\": 1,\n        \"min\": 1,\n        \"max\": 6,\n        \"num_unique_values\": 6,\n        \"samples\": [\n          4,\n          3\n        ],\n        \"semantic_type\": \"\",\n        \"description\": \"\"\n      }\n    },\n    {\n      \"column\": \"fat\",\n      \"properties\": {\n        \"dtype\": \"number\",\n        \"std\": 1.0276709884274668,\n        \"min\": 0.0,\n        \"max\": 5.0,\n        \"num_unique_values\": 5,\n        \"samples\": [\n          5.0,\n          3.0\n        ],\n        \"semantic_type\": \"\",\n        \"description\": \"\"\n      }\n    },\n    {\n      \"column\": \"fiber\",\n      \"properties\": {\n        \"dtype\": \"number\",\n        \"std\": 2.436513820520112,\n        \"min\": 0.0,\n        \"max\": 14.0,\n        \"num_unique_values\": 13,\n        \"samples\": [\n          2.7,\n          5.0\n        ],\n        \"semantic_type\": \"\",\n        \"description\": \"\"\n      }\n    },\n    {\n      \"column\": \"sugars\",\n      \"properties\": {\n        \"dtype\": \"number\",\n        \"std\": 4.457896030879679,\n        \"min\": -1.0,\n        \"max\": 15.0,\n        \"num_unique_values\": 17,\n        \"samples\": [\n          6.0,\n          8.0\n        ],\n        \"semantic_type\": \"\",\n        \"description\": \"\"\n      }\n    },\n    {\n      \"column\": \"shelf\",\n      \"properties\": {\n        \"dtype\": \"category\",\n        \"num_unique_values\": 3,\n        \"samples\": [\n          \"top\",\n          \"bottom\"\n        ],\n        \"semantic_type\": \"\",\n        \"description\": \"\"\n      }\n    },\n    {\n      \"column\": \"rating\",\n      \"properties\": {\n        \"dtype\": \"number\",\n        \"std\": 14.04728874373522,\n        \"min\": 18.042851,\n        \"max\": 93.704912,\n        \"num_unique_values\": 77,\n        \"samples\": [\n          34.384843,\n          21.871292\n        ],\n        \"semantic_type\": \"\",\n        \"description\": \"\"\n      }\n    }\n  ]\n}"
            }
          },
          "metadata": {},
          "execution_count": 103
        }
      ]
    },
    {
      "cell_type": "markdown",
      "source": [
        "## Answer the following questions:\n",
        "\n",
        "- Define your target column:\n",
        "  - rating\n",
        "- Is this a classification or regression task?\n",
        "  - regression becuase the rating is numerical"
      ],
      "metadata": {
        "id": "5F4g0IBBfB0E"
      }
    },
    {
      "cell_type": "markdown",
      "source": [
        "Business understtanding :\n",
        "How well can the \"rating\" of cereal be predicted using the following features?\n",
        "\n"
      ],
      "metadata": {
        "id": "hYO6YoFtBz8i"
      }
    },
    {
      "cell_type": "markdown",
      "source": [
        "## Inspecting Each Feature"
      ],
      "metadata": {
        "id": "33m5q_pRV6Vn"
      }
    },
    {
      "cell_type": "markdown",
      "source": [
        "### mfr"
      ],
      "metadata": {
        "id": "FCNx4fLSV8jD"
      }
    },
    {
      "cell_type": "markdown",
      "source": [
        "- mfr: Manufacturer of cereal\n",
        "  - A = American Home Food Products;\n",
        "  - G = General Mills\n",
        "  - K = Kelloggs\n",
        "  - N = Nabisco\n",
        "  - P = Post\n",
        "  - Q = Quaker Oats\n",
        "  - R = Ralston Purina\n",
        "\n",
        "  "
      ],
      "metadata": {
        "id": "T3iMStygN7O2"
      }
    },
    {
      "cell_type": "code",
      "source": [
        "# Confirming the dtype to select correct EDA function\n",
        "feature = \"mfr\"\n",
        "df[feature].dtype"
      ],
      "metadata": {
        "colab": {
          "base_uri": "https://localhost:8080/"
        },
        "id": "KvZxIJbbN7O2",
        "outputId": "8f5dc5f8-4802-4c00-99e6-1d722c4def4b"
      },
      "execution_count": 104,
      "outputs": [
        {
          "output_type": "execute_result",
          "data": {
            "text/plain": [
              "dtype('O')"
            ]
          },
          "metadata": {},
          "execution_count": 104
        }
      ]
    },
    {
      "cell_type": "code",
      "source": [
        "# run the appropriate explore function (based on feature's dtype)\n",
        "explore_categorical(df,feature);"
      ],
      "metadata": {
        "colab": {
          "base_uri": "https://localhost:8080/",
          "height": 476
        },
        "id": "hGoP8XESN7O2",
        "outputId": "a1aef3de-4656-4a37-f433-6818d5b51a15"
      },
      "execution_count": 105,
      "outputs": [
        {
          "output_type": "display_data",
          "data": {
            "text/plain": [
              "<Figure size 600x400 with 1 Axes>"
            ],
            "image/png": "[encoded data removed]"
          },
          "metadata": {}
        },
        {
          "output_type": "stream",
          "name": "stdout",
          "text": [
            "- NaN's Found: 2 (2.6%)\n",
            "- Unique Values: 8\n",
            "- Most common value: 'K' occurs 23 times (29.87%)\n",
            "- Not constant or quasi-constant.\n"
          ]
        }
      ]
    },
    {
      "cell_type": "markdown",
      "source": [
        "**Feature Observations**\n",
        "\n",
        "1. What type of feature is it? (Categorical (nominal), ordinal, numeric)\n",
        "  - categorical (nominal)\n",
        "\n",
        "2. How many null values? What percentage? What would you do with the null values (drop the rows? drop the column? impute? if impute, with what?)\n",
        "  - 2 null values (2.6%)\n",
        "  - Impute with \"MISSING\" placeholder.\n",
        "\n",
        "3. Is the feature constant or quasi-constant?\n",
        "  - No.\n",
        "\n",
        "4. What is the cardinality? Is it high?\n",
        "  - 8 unique categories.\n",
        "  - Not high cardinality (not >10)\n",
        "\n",
        "5. Would we know this BEFORE the target is determined?\n",
        "  - Yes.\n",
        "\n",
        "6. Is there a business case/understanding reason to exclude based on our business case?\n",
        "  - No.\n",
        "\n"
      ],
      "metadata": {
        "id": "z1IDHy5fN7O2"
      }
    },
    {
      "cell_type": "code",
      "source": [
        "# Run the appropriate feature vs. target function (based on dtype)\n",
        "plot_categorical_vs_target(df, feature,'rating')"
      ],
      "metadata": {
        "colab": {
          "base_uri": "https://localhost:8080/",
          "height": 442
        },
        "id": "naF29poIN7O2",
        "outputId": "a55e9f35-28f4-4754-cae2-4305774ef8d9"
      },
      "execution_count": 106,
      "outputs": [
        {
          "output_type": "execute_result",
          "data": {
            "text/plain": [
              "(<Figure size 600x400 with 1 Axes>,\n",
              " <Axes: title={'center': 'mfr vs. rating'}, xlabel='mfr', ylabel='rating'>)"
            ]
          },
          "metadata": {},
          "execution_count": 106
        },
        {
          "output_type": "display_data",
          "data": {
            "text/plain": [
              "<Figure size 600x400 with 1 Axes>"
            ],
            "image/png": "[encoded data removed]"
          },
          "metadata": {}
        }
      ]
    },
    {
      "cell_type": "markdown",
      "source": [
        "- Feature vs. Target Observations:\n",
        "  - Based on your business understanding, would you expect this feature to be a predictor of the target?\n",
        "    - Yes.\n",
        "  - Does this feature appear to be a predictor of the target?\n",
        "    - Yes it does, there is variability between the groups, even though some have similar means.\n",
        "\n",
        "___"
      ],
      "metadata": {
        "id": "iuWj2ajRN7O2"
      }
    },
    {
      "cell_type": "markdown",
      "source": [
        "### type"
      ],
      "metadata": {
        "id": "-D5aLvtcOVjF"
      }
    },
    {
      "cell_type": "markdown",
      "source": [
        "- type: hot or cold\n",
        "  "
      ],
      "metadata": {
        "id": "WNYoxdsNOVjS"
      }
    },
    {
      "cell_type": "code",
      "source": [
        "# Confirming the dtype to select correct EDA function\n",
        "feature = \"type\"\n",
        "df[feature].dtype"
      ],
      "metadata": {
        "colab": {
          "base_uri": "https://localhost:8080/"
        },
        "id": "IjQfoflBOVjS",
        "outputId": "45af81f9-c07f-4cd9-9de9-e1e0506671f7"
      },
      "execution_count": 107,
      "outputs": [
        {
          "output_type": "execute_result",
          "data": {
            "text/plain": [
              "dtype('O')"
            ]
          },
          "metadata": {},
          "execution_count": 107
        }
      ]
    },
    {
      "cell_type": "code",
      "source": [
        "# run the appropriate explore function (based on feature's dtype)\n",
        "explore_categorical(df, feature);"
      ],
      "metadata": {
        "colab": {
          "base_uri": "https://localhost:8080/",
          "height": 0
        },
        "id": "gb9zeoYrOVjS",
        "outputId": "0cb44af1-e085-43a5-d3d2-66c73bd040d7"
      },
      "execution_count": 108,
      "outputs": [
        {
          "output_type": "display_data",
          "data": {
            "text/plain": [
              "<Figure size 600x400 with 1 Axes>"
            ],
            "image/png": "[encoded data removed]"
          },
          "metadata": {}
        },
        {
          "output_type": "stream",
          "name": "stdout",
          "text": [
            "- NaN's Found: 0 (0.0%)\n",
            "- Unique Values: 2\n",
            "- Most common value: 'C' occurs 74 times (96.1%)\n",
            "- Not constant or quasi-constant.\n"
          ]
        }
      ]
    },
    {
      "cell_type": "markdown",
      "source": [
        "**Feature Observations**\n",
        "\n",
        "1. What type of feature is it? (Categorical (nominal), ordinal, numeric)\n",
        "  - Categorical\n",
        "\n",
        "2. How many null values? What percentage? What would you do with the null values (drop the rows? drop the column? impute? if impute, with what?)\n",
        "  - 0. Nothing to impute.\n",
        "\n",
        "3. Is the feature constant or quasi-constant?\n",
        "  - No.\n",
        "\n",
        "4. What is the cardinality? Is it high?\n",
        "  - 2 unique values (very low).\n",
        "\n",
        "5. Would we know this BEFORE the target is determined?\n",
        "  - Yes.\n",
        "\n",
        "6. Is there a business case/understanding reason to exclude based on our business case?\n",
        "  - No.\n",
        "\n"
      ],
      "metadata": {
        "id": "Mz-sHkVlOVjS"
      }
    },
    {
      "cell_type": "code",
      "source": [
        "# Run the appropriate feature vs. target function (based on dtype)\n",
        "plot_categorical_vs_target(df, feature, 'rating');"
      ],
      "metadata": {
        "colab": {
          "base_uri": "https://localhost:8080/",
          "height": 0
        },
        "id": "j1X01gtFOVjS",
        "outputId": "b573b7e4-e37b-4cf0-edd4-e34f60c48084"
      },
      "execution_count": 109,
      "outputs": [
        {
          "output_type": "display_data",
          "data": {
            "text/plain": [
              "<Figure size 600x400 with 1 Axes>"
            ],
            "image/png": "[encoded data removed]"
          },
          "metadata": {}
        }
      ]
    },
    {
      "cell_type": "markdown",
      "source": [
        "- Feature vs. Target Observations:\n",
        "  - Based on your business understanding, would you expect this feature to be a predictor of the target?\n",
        "    - Yes, I think one might be rated higher.\n",
        "  - Does this feature appear to be a predictor of the target?\n",
        "    - Yes, hot cereals seem to get a higher rating.\n",
        "\n",
        "___"
      ],
      "metadata": {
        "id": "MfI4S_wvOVjS"
      }
    },
    {
      "cell_type": "markdown",
      "source": [
        "### calories"
      ],
      "metadata": {
        "id": "TvfszvpjOWEo"
      }
    },
    {
      "cell_type": "markdown",
      "source": [
        "- calories: calories per serving"
      ],
      "metadata": {
        "id": "fx8DxDylOWEp"
      }
    },
    {
      "cell_type": "code",
      "source": [
        "# Confirming the dtype to select correct EDA function\n",
        "feature = \"calories\"\n",
        "df[feature].dtype"
      ],
      "metadata": {
        "colab": {
          "base_uri": "https://localhost:8080/"
        },
        "id": "GTC1qZqROWEp",
        "outputId": "1b86ede3-9b0c-4820-b4e9-4e77071161d8"
      },
      "execution_count": 110,
      "outputs": [
        {
          "output_type": "execute_result",
          "data": {
            "text/plain": [
              "dtype('float64')"
            ]
          },
          "metadata": {},
          "execution_count": 110
        }
      ]
    },
    {
      "cell_type": "code",
      "source": [
        "# run the appropriate explore function (based on feature's dtype)\n",
        "explore_numeric(df,feature);"
      ],
      "metadata": {
        "colab": {
          "base_uri": "https://localhost:8080/",
          "height": 0
        },
        "id": "vZP2DAF5OWEp",
        "outputId": "a7ab2b97-995b-49d9-d8ce-85132dd7f35c"
      },
      "execution_count": 111,
      "outputs": [
        {
          "output_type": "display_data",
          "data": {
            "text/plain": [
              "<Figure size 600x500 with 2 Axes>"
            ],
            "image/png": "[encoded data removed]"
          },
          "metadata": {}
        },
        {
          "output_type": "stream",
          "name": "stdout",
          "text": [
            "- NaN's Found: 5 (6.49%)\n",
            "- Unique Values: 11\n",
            "- Most common value: '110.0' occurs 28 times (36.36%)\n",
            "- Not constant or quasi-constant.\n"
          ]
        }
      ]
    },
    {
      "cell_type": "markdown",
      "source": [
        "**Feature Observations**\n",
        "\n",
        "1. What type of feature is it? (Categorical (nominal), ordinal, numeric)\n",
        "  - numeric.\n",
        "\n",
        "2. How many null values? What percentage? What would you do with the null values (drop the rows? drop the column? impute? if impute, with what?)\n",
        "  - 5 (6.49%)\n",
        "  - impute with median.\n",
        "\n",
        "3. Is the feature constant or quasi-constant?\n",
        "  - No.\n",
        "\n",
        "4. What is the cardinality? Is it high?\n",
        "  - Not applicable (numeric).\n",
        "\n",
        "5. Would we know this BEFORE the target is determined?\n",
        "  - Yes.\n",
        "\n",
        "6. Is there a business case/understanding reason to exclude based on our business case?\n",
        "  - No.\n",
        "\n"
      ],
      "metadata": {
        "id": "LyJvB4QCOWEp"
      }
    },
    {
      "cell_type": "code",
      "source": [
        "# Run the appropriate feature vs. target function (based on dtype)\n",
        "plot_numeric_vs_target(df,feature, 'rating');"
      ],
      "metadata": {
        "colab": {
          "base_uri": "https://localhost:8080/",
          "height": 0
        },
        "id": "jHq_o2zhOWEp",
        "outputId": "39100c55-315e-4d48-8331-8c21a9d0583d"
      },
      "execution_count": 112,
      "outputs": [
        {
          "output_type": "display_data",
          "data": {
            "text/plain": [
              "<Figure size 600x400 with 1 Axes>"
            ],
            "image/png": "[encoded data removed]"
          },
          "metadata": {}
        }
      ]
    },
    {
      "cell_type": "markdown",
      "source": [
        "- Feature vs. Target Observations:\n",
        "  - Based on your business understanding, would you expect this feature to be a predictor of the target?\n",
        "    - Yes, I think people may prefer high calorie cereals.\n",
        "  - Does this feature appear to be a predictor of the target?\n",
        "    - Yes, but opposite direction than I expected!\n",
        "\n",
        "___"
      ],
      "metadata": {
        "id": "eJTQTIq_OWEp"
      }
    },
    {
      "cell_type": "markdown",
      "source": [
        "### protein"
      ],
      "metadata": {
        "id": "rPsWYJs3OWt3"
      }
    },
    {
      "cell_type": "markdown",
      "source": [
        "- protein: grams of protein\n",
        "  "
      ],
      "metadata": {
        "id": "1u0KhCmjOWt3"
      }
    },
    {
      "cell_type": "code",
      "source": [
        "# Confirming the dtype to select correct EDA function\n",
        "feature = \"protein\"\n",
        "df[feature].dtype"
      ],
      "metadata": {
        "colab": {
          "base_uri": "https://localhost:8080/"
        },
        "id": "FbENsHbJOWt4",
        "outputId": "c548d919-952e-4bf1-d5e0-c4d088538b70"
      },
      "execution_count": 113,
      "outputs": [
        {
          "output_type": "execute_result",
          "data": {
            "text/plain": [
              "dtype('int64')"
            ]
          },
          "metadata": {},
          "execution_count": 113
        }
      ]
    },
    {
      "cell_type": "code",
      "source": [
        "# run the appropriate explore function (based on feature's dtype)\n",
        "explore_numeric(df,feature);"
      ],
      "metadata": {
        "colab": {
          "base_uri": "https://localhost:8080/",
          "height": 0
        },
        "id": "u50S8cGIOWt4",
        "outputId": "3139ab6e-1b25-45e6-dbe8-6bd444b8c42d"
      },
      "execution_count": 114,
      "outputs": [
        {
          "output_type": "display_data",
          "data": {
            "text/plain": [
              "<Figure size 600x500 with 2 Axes>"
            ],
            "image/png": "[encoded data removed]"
          },
          "metadata": {}
        },
        {
          "output_type": "stream",
          "name": "stdout",
          "text": [
            "- NaN's Found: 0 (0.0%)\n",
            "- Unique Values: 6\n",
            "- Most common value: '3' occurs 28 times (36.36%)\n",
            "- Not constant or quasi-constant.\n"
          ]
        }
      ]
    },
    {
      "cell_type": "markdown",
      "source": [
        "**Feature Observations**\n",
        "\n",
        "1. What type of feature is it? (Categorical (nominal), ordinal, numeric)\n",
        "  - numeric.\n",
        "\n",
        "2. How many null values? What percentage? What would you do with the null values (drop the rows? drop the column? impute? if impute, with what?)\n",
        "  - 0 null values.\n",
        "\n",
        "3. Is the feature constant or quasi-constant?\n",
        "  - No.\n",
        "\n",
        "4. What is the cardinality? Is it high?\n",
        "  - 6 unique values. Not high (since its \\<10).\n",
        "\n",
        "5. Would we know this BEFORE the target is determined?\n",
        "  - Yes.\n",
        "\n",
        "6. Is there a business case/understanding reason to exclude based on our business case?\n",
        "  - No.\n",
        "\n"
      ],
      "metadata": {
        "id": "XHahkIlCOWt4"
      }
    },
    {
      "cell_type": "code",
      "source": [
        "# Run the appropriate feature vs. target function (based on dtype)\n",
        "plot_numeric_vs_target(df,feature, 'rating');"
      ],
      "metadata": {
        "colab": {
          "base_uri": "https://localhost:8080/",
          "height": 0
        },
        "id": "JOkdNDdHOWt4",
        "outputId": "fe35d7c7-2093-4efe-98f7-fbece1432991"
      },
      "execution_count": 115,
      "outputs": [
        {
          "output_type": "display_data",
          "data": {
            "text/plain": [
              "<Figure size 600x400 with 1 Axes>"
            ],
            "image/png": "[encoded data removed]"
          },
          "metadata": {}
        }
      ]
    },
    {
      "cell_type": "markdown",
      "source": [
        "- Feature vs. Target Observations:\n",
        "  - Based on your business understanding, would you expect this feature to be a predictor of the target?\n",
        "    - Yes, I would assume more protein would be better.\n",
        "  - Does this feature appear to be a predictor of the target?\n",
        "    - Yes!\n",
        "\n",
        "___"
      ],
      "metadata": {
        "id": "wI8lU-AbOWt4"
      }
    },
    {
      "cell_type": "markdown",
      "source": [
        "### fat"
      ],
      "metadata": {
        "id": "rZV-aljvOXjy"
      }
    },
    {
      "cell_type": "markdown",
      "source": [
        "- fat: grams of fat\n",
        "  "
      ],
      "metadata": {
        "id": "Z7j0O7DkOXjz"
      }
    },
    {
      "cell_type": "code",
      "source": [
        "# Confirming the dtype to select correct EDA function\n",
        "feature = \"fat\"\n",
        "df[feature].dtype"
      ],
      "metadata": {
        "colab": {
          "base_uri": "https://localhost:8080/"
        },
        "id": "5mF3FI9IOXj0",
        "outputId": "7cc6a8b3-cc41-456d-8d3b-1a3a7445977d"
      },
      "execution_count": 116,
      "outputs": [
        {
          "output_type": "execute_result",
          "data": {
            "text/plain": [
              "dtype('float64')"
            ]
          },
          "metadata": {},
          "execution_count": 116
        }
      ]
    },
    {
      "cell_type": "code",
      "source": [
        "# run the appropriate explore function (based on feature's dtype)\n",
        "explore_numeric(df,feature);"
      ],
      "metadata": {
        "colab": {
          "base_uri": "https://localhost:8080/",
          "height": 0
        },
        "id": "s0BOBQWYOXj0",
        "outputId": "ebbd7770-4c15-4a70-b50c-e954ff51c8c9"
      },
      "execution_count": 117,
      "outputs": [
        {
          "output_type": "display_data",
          "data": {
            "text/plain": [
              "<Figure size 600x500 with 2 Axes>"
            ],
            "image/png": "[encoded data removed]"
          },
          "metadata": {}
        },
        {
          "output_type": "stream",
          "name": "stdout",
          "text": [
            "- NaN's Found: 7 (9.09%)\n",
            "- Unique Values: 5\n",
            "- Most common value: '1.0' occurs 27 times (35.06%)\n",
            "- Not constant or quasi-constant.\n"
          ]
        }
      ]
    },
    {
      "cell_type": "markdown",
      "source": [
        "**Feature Observations**\n",
        "\n",
        "1. What type of feature is it? (Categorical (nominal), ordinal, numeric)\n",
        "  - numeric\n",
        "\n",
        "2. How many null values? What percentage? What would you do with the null values (drop the rows? drop the column? impute? if impute, with what?)\n",
        "  - 7 (9%)\n",
        "  - impute with median.\n",
        "\n",
        "3. Is the feature constant or quasi-constant?\n",
        "  - No.\n",
        "\n",
        "4. What is the cardinality? Is it high?\n",
        "  - Not applicable (numeric).\n",
        "\n",
        "5. Would we know this BEFORE the target is determined?\n",
        "  - Yes.\n",
        "\n",
        "6. Is there a business case/understanding reason to exclude based on our business case?\n",
        "  - No.\n",
        "\n"
      ],
      "metadata": {
        "id": "QpHe08AoOXj0"
      }
    },
    {
      "cell_type": "code",
      "source": [
        "# Run the appropriate feature vs. target function (based on dtype)\n",
        "plot_numeric_vs_target(df, feature, 'rating');"
      ],
      "metadata": {
        "colab": {
          "base_uri": "https://localhost:8080/",
          "height": 0
        },
        "id": "VTOEpevFOXj0",
        "outputId": "5d321f0e-b7af-44e4-a7a7-ea07da23e910"
      },
      "execution_count": 118,
      "outputs": [
        {
          "output_type": "display_data",
          "data": {
            "text/plain": [
              "<Figure size 600x400 with 1 Axes>"
            ],
            "image/png": "[encoded data removed]"
          },
          "metadata": {}
        }
      ]
    },
    {
      "cell_type": "markdown",
      "source": [
        "- Feature vs. Target Observations:\n",
        "  - Based on your business understanding, would you expect this feature to be a predictor of the target?\n",
        "    - Yes, I assume fatty cereals would be rated higher.\n",
        "  - Does this feature appear to be a predictor of the target?\n",
        "    - Yes, but opposite direction than expected.\n",
        "\n",
        "___"
      ],
      "metadata": {
        "id": "AL6wfp2eOXj0"
      }
    },
    {
      "cell_type": "markdown",
      "source": [
        "### fiber"
      ],
      "metadata": {
        "id": "89q9fTvuacko"
      }
    },
    {
      "cell_type": "markdown",
      "source": [
        "- fiber: grams of dietary fiber\n",
        "\n",
        "  "
      ],
      "metadata": {
        "id": "Z4e7fy_Jack0"
      }
    },
    {
      "cell_type": "code",
      "source": [
        "# # Confirming the dtype to select correct EDA function\n",
        "feature = \"fiber\"\n",
        "df[feature].dtype"
      ],
      "metadata": {
        "colab": {
          "base_uri": "https://localhost:8080/"
        },
        "id": "ChcS4Gpsack1",
        "outputId": "9baaa5da-e60f-4f0f-e3f1-132f90151704"
      },
      "execution_count": 119,
      "outputs": [
        {
          "output_type": "execute_result",
          "data": {
            "text/plain": [
              "dtype('float64')"
            ]
          },
          "metadata": {},
          "execution_count": 119
        }
      ]
    },
    {
      "cell_type": "code",
      "source": [
        "# run the appropriate explore function (based on feature's dtype)\n",
        "explore_numeric(df, feature);"
      ],
      "metadata": {
        "colab": {
          "base_uri": "https://localhost:8080/",
          "height": 0
        },
        "id": "3CnErr6jack1",
        "outputId": "9dfcf13b-42ca-413d-830d-208c31642f92"
      },
      "execution_count": 120,
      "outputs": [
        {
          "output_type": "display_data",
          "data": {
            "text/plain": [
              "<Figure size 600x500 with 2 Axes>"
            ],
            "image/png": "[encoded data removed]"
          },
          "metadata": {}
        },
        {
          "output_type": "stream",
          "name": "stdout",
          "text": [
            "- NaN's Found: 6 (7.79%)\n",
            "- Unique Values: 13\n",
            "- Most common value: '0.0' occurs 18 times (23.38%)\n",
            "- Not constant or quasi-constant.\n"
          ]
        }
      ]
    },
    {
      "cell_type": "markdown",
      "source": [
        "**Feature Observations**\n",
        "\n",
        "1. What type of feature is it? (Categorical (nominal), ordinal, numeric)\n",
        "  - numeric\n",
        "\n",
        "2. How many null values? What percentage? What would you do with the null values (drop the rows? drop the column? impute? if impute, with what?)\n",
        "  - 6 (7.79%)\n",
        "  - Impute with the median\n",
        "\n",
        "3. Is the feature constant or quasi-constant?\n",
        "  - No.\n",
        "\n",
        "4. What is the cardinality? Is it high?\n",
        "  - Not applicable (numeric).\n",
        "\n",
        "5. Would we know this BEFORE the target is determined?\n",
        "  - Yes.\n",
        "\n",
        "6. Is there a business case/understanding reason to exclude based on our business case?\n",
        "  - No.\n",
        "\n"
      ],
      "metadata": {
        "id": "SJiNqMl4ack1"
      }
    },
    {
      "cell_type": "code",
      "source": [
        "# Run the appropriate feature vs. target function (based on dtype)\n",
        "plot_numeric_vs_target(df, feature, 'rating');"
      ],
      "metadata": {
        "colab": {
          "base_uri": "https://localhost:8080/",
          "height": 0
        },
        "id": "flG1IPuKack1",
        "outputId": "614fce5f-6141-4cbb-a03e-1315ed781c7c"
      },
      "execution_count": 121,
      "outputs": [
        {
          "output_type": "display_data",
          "data": {
            "text/plain": [
              "<Figure size 600x400 with 1 Axes>"
            ],
            "image/png": "[encoded data removed]"
          },
          "metadata": {}
        }
      ]
    },
    {
      "cell_type": "markdown",
      "source": [
        "- Feature vs. Target Observations:\n",
        "  - Based on your business understanding, would you expect this feature to be a predictor of the target?\n",
        "    - Yes I would expect having more fiber corresponds with a higher rating.\n",
        "  - Does this feature appear to be a predictor of the target?\n",
        "    - Yes.\n",
        "\n",
        "___"
      ],
      "metadata": {
        "id": "YaCk1gdzack1"
      }
    },
    {
      "cell_type": "markdown",
      "source": [],
      "metadata": {
        "id": "y1pv7JIxN6hV"
      }
    },
    {
      "cell_type": "code",
      "source": [
        "df.columns"
      ],
      "metadata": {
        "colab": {
          "base_uri": "https://localhost:8080/"
        },
        "id": "1zAhePerEhCl",
        "outputId": "8ab498bf-1268-4a0c-fdce-83fbe01afee0"
      },
      "execution_count": 122,
      "outputs": [
        {
          "output_type": "execute_result",
          "data": {
            "text/plain": [
              "Index(['mfr', 'type', 'calories', 'protein', 'fat', 'fiber', 'sugars', 'shelf',\n",
              "       'rating'],\n",
              "      dtype='object')"
            ]
          },
          "metadata": {},
          "execution_count": 122
        }
      ]
    },
    {
      "cell_type": "markdown",
      "source": [
        "### sugars"
      ],
      "metadata": {
        "id": "ptrdAhHaad47"
      }
    },
    {
      "cell_type": "markdown",
      "source": [
        "- sugars: grams of sugars"
      ],
      "metadata": {
        "id": "bOMN74Gtad47"
      }
    },
    {
      "cell_type": "code",
      "source": [
        "# Confirming the dtype to select correct EDA function\n",
        "feature = \"sugars\"\n",
        "df[feature].dtype"
      ],
      "metadata": {
        "colab": {
          "base_uri": "https://localhost:8080/"
        },
        "id": "KY2d80ohad47",
        "outputId": "de2a210b-311f-4bbf-b0ff-b20e5fb416fd"
      },
      "execution_count": 123,
      "outputs": [
        {
          "output_type": "execute_result",
          "data": {
            "text/plain": [
              "dtype('float64')"
            ]
          },
          "metadata": {},
          "execution_count": 123
        }
      ]
    },
    {
      "cell_type": "code",
      "source": [
        "# run the appropriate explore function (based on feature's dtype)\n",
        "explore_numeric(df,feature);"
      ],
      "metadata": {
        "colab": {
          "base_uri": "https://localhost:8080/",
          "height": 0
        },
        "id": "bVwqwg9Sad48",
        "outputId": "e00657d2-62dd-46fe-9ca4-c95237071383"
      },
      "execution_count": 124,
      "outputs": [
        {
          "output_type": "display_data",
          "data": {
            "text/plain": [
              "<Figure size 600x500 with 2 Axes>"
            ],
            "image/png": "[encoded data removed]"
          },
          "metadata": {}
        },
        {
          "output_type": "stream",
          "name": "stdout",
          "text": [
            "- NaN's Found: 6 (7.79%)\n",
            "- Unique Values: 17\n",
            "- Most common value: '3.0' occurs 13 times (16.88%)\n",
            "- Not constant or quasi-constant.\n"
          ]
        }
      ]
    },
    {
      "cell_type": "markdown",
      "source": [
        "**Feature Observations**\n",
        "\n",
        "1. What type of feature is it? (Categorical (nominal), ordinal, numeric)\n",
        "  - numeric.\n",
        "\n",
        "2. How many null values? What percentage? What would you do with the null values (drop the rows? drop the column? impute? if impute, with what?)\n",
        "  - 6 (7.79%)\n",
        "  - Impute with the median.\n",
        "\n",
        "3. Is the feature constant or quasi-constant?\n",
        "  - No.\n",
        "\n",
        "4. What is the cardinality? Is it high?\n",
        "  - Not applicable, numeric.\n",
        "\n",
        "5. Would we know this BEFORE the target is determined?\n",
        "  - Yes\n",
        "\n",
        "6. Is there a business case/understanding reason to exclude based on our business case?\n",
        "  - No\n",
        "\n"
      ],
      "metadata": {
        "id": "GwBfO_wTad48"
      }
    },
    {
      "cell_type": "code",
      "source": [
        "# Run the appropriate feature vs. target function (based on dtype)\n",
        "plot_numeric_vs_target(df, feature, 'rating');"
      ],
      "metadata": {
        "colab": {
          "base_uri": "https://localhost:8080/",
          "height": 0
        },
        "id": "sskwL7bdad48",
        "outputId": "6efa8e30-d6d4-4747-c9bd-4c794641b473"
      },
      "execution_count": 125,
      "outputs": [
        {
          "output_type": "display_data",
          "data": {
            "text/plain": [
              "<Figure size 600x400 with 1 Axes>"
            ],
            "image/png": "[encoded data removed]"
          },
          "metadata": {}
        }
      ]
    },
    {
      "cell_type": "markdown",
      "source": [
        "- Feature vs. Target Observations:\n",
        "  - Based on your business understanding, would you expect this feature to be a predictor of the target?\n",
        "    - Yes, I think people would rate sugary cereals higher.\n",
        "  - Does this feature appear to be a predictor of the target?\n",
        "    - Yes, but opposite of what I expected.\n",
        "\n",
        "___"
      ],
      "metadata": {
        "id": "0FIwi7rsad48"
      }
    },
    {
      "cell_type": "markdown",
      "source": [
        "### shelf"
      ],
      "metadata": {
        "id": "NbT7juUwae68"
      }
    },
    {
      "cell_type": "markdown",
      "source": [
        "- shelf: display shelf (1, 2, or 3, counting from the floor)"
      ],
      "metadata": {
        "id": "DGogrvVVae69"
      }
    },
    {
      "cell_type": "code",
      "source": [
        "# Confirming the dtype to select correct EDA function\n",
        "feature = \"shelf\"\n",
        "df[feature].dtype"
      ],
      "metadata": {
        "colab": {
          "base_uri": "https://localhost:8080/"
        },
        "id": "YbgVvKUSae69",
        "outputId": "52cec54b-ce5e-4642-efbf-146a725dcee8"
      },
      "execution_count": 126,
      "outputs": [
        {
          "output_type": "execute_result",
          "data": {
            "text/plain": [
              "dtype('O')"
            ]
          },
          "metadata": {},
          "execution_count": 126
        }
      ]
    },
    {
      "cell_type": "code",
      "source": [
        "# run the appropriate explore function (based on feature's dtype)\n",
        "explore_categorical(df, feature);"
      ],
      "metadata": {
        "colab": {
          "base_uri": "https://localhost:8080/",
          "height": 476
        },
        "id": "EKmtkr2dae69",
        "outputId": "b51f08d4-89e7-4c94-e145-b7351453b952"
      },
      "execution_count": 127,
      "outputs": [
        {
          "output_type": "display_data",
          "data": {
            "text/plain": [
              "<Figure size 600x400 with 1 Axes>"
            ],
            "image/png": "[encoded data removed]"
          },
          "metadata": {}
        },
        {
          "output_type": "stream",
          "name": "stdout",
          "text": [
            "- NaN's Found: 2 (2.6%)\n",
            "- Unique Values: 4\n",
            "- Most common value: 'top' occurs 35 times (45.45%)\n",
            "- Not constant or quasi-constant.\n"
          ]
        }
      ]
    },
    {
      "cell_type": "markdown",
      "source": [
        "**Feature Observations**\n",
        "\n",
        "1. What type of feature is it? (Categorical (nominal), ordinal, numeric)\n",
        "  - Ordinal. Data Dictionary says it should be integers: 1,2,3 with 1 being closest to the floor)\n",
        "\n",
        "2. How many null values? What percentage? What would you do with the null values (drop the rows? drop the column? impute? if impute, with what?)\n",
        "  - 2 (2.6%)\n",
        "  - Impute with a placeholder (0)\n",
        "\n",
        "3. Is the feature constant or quasi-constant?\n",
        "  - No.\n",
        "\n",
        "4. What is the cardinality? Is it high?\n",
        "  - 4 (including null values).\n",
        "\n",
        "5. Would we know this BEFORE the target is determined?\n",
        "  - Maybe?\n",
        "\n",
        "6. Is there a business case/understanding reason to exclude based on our business case?\n",
        "  - No.\n",
        "\n"
      ],
      "metadata": {
        "id": "wZzlryjYae69"
      }
    },
    {
      "cell_type": "code",
      "source": [
        "# Run the appropriate feature vs. target function (based on dtype)\n",
        "plot_categorical_vs_target(df, feature, 'rating');"
      ],
      "metadata": {
        "colab": {
          "base_uri": "https://localhost:8080/",
          "height": 407
        },
        "id": "ywhfHiMxae69",
        "outputId": "a40f398d-f8e4-4e41-9440-f094a608e9af"
      },
      "execution_count": 128,
      "outputs": [
        {
          "output_type": "display_data",
          "data": {
            "text/plain": [
              "<Figure size 600x400 with 1 Axes>"
            ],
            "image/png": "[encoded data removed]"
          },
          "metadata": {}
        }
      ]
    },
    {
      "cell_type": "markdown",
      "source": [
        "- Feature vs. Target Observations:\n",
        "  - Based on your business understanding, would you expect this feature to be a predictor of the target?\n",
        "    - I am not sure.\n",
        "  - Does this feature appear to be a predictor of the target?\n",
        "    - Yes, it seems that being in the middle shelf is associated with a lower rating.\n",
        "\n",
        "___"
      ],
      "metadata": {
        "id": "KfhpSpUOae69"
      }
    },
    {
      "cell_type": "markdown",
      "source": [
        "### rating (target)"
      ],
      "metadata": {
        "id": "aJYMDvLUaffN"
      }
    },
    {
      "cell_type": "markdown",
      "source": [
        "- rating: a rating of the cereals (Possibly from Consumer Reports?)\n",
        "\n",
        "  "
      ],
      "metadata": {
        "id": "45okcCQqaffN"
      }
    },
    {
      "cell_type": "code",
      "source": [
        "# Confirming the dtype to select correct EDA function\n",
        "feature = \"rating\"\n",
        "df[feature].dtype"
      ],
      "metadata": {
        "colab": {
          "base_uri": "https://localhost:8080/"
        },
        "id": "UnI1rJLSaffN",
        "outputId": "649798ee-dda7-4449-c8e9-b10cfc4b1be3"
      },
      "execution_count": 129,
      "outputs": [
        {
          "output_type": "execute_result",
          "data": {
            "text/plain": [
              "dtype('float64')"
            ]
          },
          "metadata": {},
          "execution_count": 129
        }
      ]
    },
    {
      "cell_type": "code",
      "source": [
        "# run the appropriate explore function (based on feature's dtype)\n",
        "explore_numeric(df, feature);"
      ],
      "metadata": {
        "colab": {
          "base_uri": "https://localhost:8080/",
          "height": 575
        },
        "id": "7mDMMbg9affO",
        "outputId": "4b8e73bf-c4a1-4679-d032-8853a95b2018"
      },
      "execution_count": 130,
      "outputs": [
        {
          "output_type": "display_data",
          "data": {
            "text/plain": [
              "<Figure size 600x500 with 2 Axes>"
            ],
            "image/png": "[encoded data removed]"
          },
          "metadata": {}
        },
        {
          "output_type": "stream",
          "name": "stdout",
          "text": [
            "- NaN's Found: 0 (0.0%)\n",
            "- Unique Values: 77\n",
            "- Most common value: '68.402973' occurs 1 times (1.3%)\n",
            "- Not constant or quasi-constant.\n"
          ]
        }
      ]
    },
    {
      "cell_type": "markdown",
      "source": [
        "**Feature Observations**\n",
        "\n",
        "1. What type of feature is it? (Categorical (nominal), ordinal, numeric)\n",
        "  - numeric. our target!\n",
        "\n",
        "2. How many null values? What percentage? What would you do with the null values (drop the rows? drop the column? impute? if impute, with what?)\n",
        "  - 0\n",
        "\n",
        "3. Is the feature constant or quasi-constant?\n",
        "  - Not a feature!\n",
        "\n",
        "4. What is the cardinality? Is it high?\n",
        "  - N/A - numeric.\n",
        "\n",
        "5. Would we know this BEFORE the target is determined?\n",
        "  - Yes, since it IS our target!\n",
        "\n",
        "6. Is there a business case/understanding reason to exclude based on our business case?\n",
        "  - Yes, its our target!\n",
        "\n"
      ],
      "metadata": {
        "id": "QIi-FEOJaffO"
      }
    },
    {
      "cell_type": "markdown",
      "source": [
        "# SimpleImputer Exercise"
      ],
      "metadata": {
        "id": "6AA1zNPLKd06"
      }
    },
    {
      "cell_type": "markdown",
      "source": [
        "## Instructions"
      ],
      "metadata": {
        "id": "SHTQs4lVXS2l"
      }
    },
    {
      "cell_type": "markdown",
      "source": [
        "<table style=\"background-color: rgb(13,32,76); border-radius: 10px\">\n",
        "\t<thead>\n",
        "\t\t<tr>\n",
        "\t\t\t<th colspan=\"2\" style=\"border: hidden; vertical-align: top;\" width=\"15%\"><img src=\"https://assets.codingdojo.com/boomyeah2015/codingdojo/curriculum/content/chapter/1674755226__Icons_400px_Practice Assignment.png\">\n",
        "\t\t\t</th>\n",
        "\t\t\t<th style=\"border: hidden;\">\n",
        "\t\t\t\t<h1 style=\"color: white;\">SimpleImputer Exercise (Practice)</h1>\n",
        "\t\t\t</th>\n",
        "\t\t</tr>\n",
        "\t</thead>\n",
        "</table>\n",
        "<h1>SimpleImputer Exercise</h1>\n",
        "<h2>Instructions</h2>\n",
        "<p>For this task, you will continue working with the <a href=\"https://drive.google.com/file/d/1-17RJeMvb7Ruak-NBLnLleQYL_4tOQn_/view?usp=share_link\">modified version of the cereals dataset.</a> You can find the <a href=\"https://www.kaggle.com/datasets/crawford/80-cereals\">data dictionary on Kaggle.</a></p>\n",
        "<p>This dataset shows popular cereals by brand and manufacturer, along with nutrition facts. The machine learning question is:</p>\n",
        "<p><em><strong>How well can the \"rating\" of cereal be predicted using the following features?</strong></em></p>\n",
        "<ul>\n",
        "<li>mfr, type, calories, protein, fat, fiber, sugars, shelf</li>\n",
        "</ul>\n",
        "<p>In the Feature Inspection practice assignment, you performed EDA and took notes on your observations for every feature in the dataset.</p>\n",
        "<p><strong>For this assignment, you will start pre-processing the data for modeling.</strong> You will apply the additional steps to prepare the data for modeling and address the business question over several practice assignments.</p>\n",
        "<h2>Task</h2>\n",
        "<p>\n",
        "</p>\n",
        "<p><strong><u>Continue working in your previous notebook from the Feature Inspection Exercise.</u></strong></p>\n",
        "<ul>\n",
        "<li><strong>Note: if you did not complete the previous practice assignment,</strong> return to the previous assignment page and make a copy of the assignment solution notebook at the bottom to use as your starter notebook.</li>\n",
        "</ul>\n",
        "<ul>\n",
        "<li><strong>Add a new H1 header for this assignment</strong> at the bottom of your current notebook (e.g., # SimpleImputer Exercise ).</li>\n",
        "</ul>\n",
        "<p><strong><u>Import the new requirements/tools</u></strong></p>\n",
        "<ul>\n",
        "<li>Import <code>set_config</code> from sklearn and run the transform_output='pandas' command.</li>\n",
        "<li>Import <code>train_test_split</code> from sklearn.model_selection</li>\n",
        "<li>Import <code>SimpleImputer</code> from sklearn.impute</li>\n",
        "</ul>\n",
        "<p><strong><u>Define target and features and train-test-split:</u></strong></p>\n",
        "<ul>\n",
        "<li><p>Define features (X) and target (y).</p>\n",
        "<ul>\n",
        "<li>X should be the same features that you inspected in the last assignment: mfr, type, calories, protein, fat, fiber, sugars, shelf</li>\n",
        "<li>y should be 'rating'</li>\n",
        "</ul>\n",
        "</li>\n",
        "</ul>\n",
        "<ul>\n",
        "<li>Train test split the data to prepare for machine learning (use a random state of 42 for reproducibility).</li>\n",
        "<li>Display the number of null values in X_train.</li>\n",
        "<li>Display the data types for X_train.</li>\n",
        "</ul>\n",
        "<p><strong><u>Define groups of features using lists:</u></strong></p>\n",
        "<ul>\n",
        "<li><p>Use the observations from your feature inspection to define 3 lists containing the column names for that belong in each type of feature:</p>\n",
        "<ul>\n",
        "<li><code>numeric_cols</code></li>\n",
        "<li><code>categorical_cols</code></li>\n",
        "<li><code>ordinal_cols</code> (hint: there should only be 1 oridnal).</li>\n",
        "</ul>\n",
        "</li>\n",
        "</ul>\n",
        "<p><strong><u>Impute the numeric columns</u></strong></p>\n",
        "<ul>\n",
        "<li>Instantiate a SimpleImputer for your numeric features that will use \"median\" as the strategy.</li>\n",
        "<li>Fit the simple imputer on the features in <code>numeric_cols</code></li>\n",
        "<li>Transform the training data's numeric_cols and save the transformed data as \"X_train_num_imputed\"</li>\n",
        "<li>Transform the test data's numeric_cols and save the transformed data as \"X_test_num_imputed\"</li><li>Confirm there are 0 null values in X_train_num_imputed</li>\n",
        "</ul>\n",
        "<p><strong><u>Impute the categorical features</u></strong></p>\n",
        "<ul>\n",
        "<li>Instantiate a SimpleImputer for your categorical features that will use a \"constant\" strategy with a fill value of \"MISSING.\"</li>\n",
        "<li>Fit the simple imputer on the features in <code>categorical_cols</code></li>\n",
        "<li>Transform the training data's categorical_cols and save the transformed data as \"X_train_cat_imputed\"</li>\n",
        "<li>Transform the test data's categorical_cols and save the transformed data as \"X_test_cat_imputed\"</li><li>Confirm there are 0 null values in X_train_cat_imputed</li></ul>\n",
        "<p><strong><u>Impute the ordinal features</u></strong></p>\n",
        "<ul>\n",
        "<li>Instantiate a SimpleImputer for your ordinal features that will use the \"most_frequent\" strategy.</li>\n",
        "<li>Fit the simple imputer on the features in <code>ordinal_cols</code></li>\n",
        "<li>Transform the training data's ordinal_cols and save the transformed data as \"X_train_ord_imputed\"</li>\n",
        "<li>Transform the test data's ordinal_cols and save the transformed data as \"X_test_ord_imputed\"</li><li>Confirm there are 0 null values in X_train_ord_imputed</li>\n",
        "</ul>\n",
        "<p>Then save your notebook and use File &gt; Download &gt; Download Notebook (.ipynb) and upload your notebook as your submission for this assignment.</p>\n",
        "\n",
        "___"
      ],
      "metadata": {
        "id": "Vl4D6oZ9XIVT"
      }
    },
    {
      "cell_type": "markdown",
      "source": [
        "## solution"
      ],
      "metadata": {
        "id": "-9Q_sVv6XVpt"
      }
    },
    {
      "cell_type": "markdown",
      "source": [
        "### imports"
      ],
      "metadata": {
        "id": "7FCB5Md6LWug"
      }
    },
    {
      "cell_type": "code",
      "source": [
        "# Import packages and set options\n",
        "import numpy as np\n",
        "pd.set_option('display.max_columns',100)\n",
        "# Change settings to ouput a dataframe\n",
        "from sklearn import set_config\n",
        "set_config(transform_output='pandas')\n",
        "from sklearn.model_selection import train_test_split\n",
        "from sklearn.impute import SimpleImputer\n"
      ],
      "metadata": {
        "id": "P9gi1i6JKean"
      },
      "execution_count": 131,
      "outputs": []
    },
    {
      "cell_type": "markdown",
      "source": [
        "### Define target and features and train-test-split:\n",
        "\n"
      ],
      "metadata": {
        "id": "HDck5UkpLY4D"
      }
    },
    {
      "cell_type": "code",
      "source": [
        "df.head()"
      ],
      "metadata": {
        "colab": {
          "base_uri": "https://localhost:8080/",
          "height": 0
        },
        "id": "QrpBTN_pLuaW",
        "outputId": "ce10a228-9361-4da2-a423-f981588bd7db"
      },
      "execution_count": 132,
      "outputs": [
        {
          "output_type": "execute_result",
          "data": {
            "text/plain": [
              "  mfr type  calories  protein  fat  fiber  sugars shelf     rating\n",
              "0   N    C       NaN        4  1.0   10.0     6.0   top  68.402973\n",
              "1   Q    C     120.0        3  5.0    2.0     8.0   top  33.983679\n",
              "2   K    C      70.0        4  1.0    9.0     5.0   top  59.425505\n",
              "3   K    C      50.0        4  0.0   14.0     0.0   top  93.704912\n",
              "4   R    C       NaN        2  2.0    1.0     8.0   NaN  34.384843"
            ],
            "text/html": [
              "\n",
              "  <div id=\"df-363b4769-8c5a-4213-adbf-6f13d1d4e3a7\" class=\"colab-df-container\">\n",
              "    <div>\n",
              "<style scoped>\n",
              "    .dataframe tbody tr th:only-of-type {\n",
              "        vertical-align: middle;\n",
              "    }\n",
              "\n",
              "    .dataframe tbody tr th {\n",
              "        vertical-align: top;\n",
              "    }\n",
              "\n",
              "    .dataframe thead th {\n",
              "        text-align: right;\n",
              "    }\n",
              "</style>\n",
              "<table border=\"1\" class=\"dataframe\">\n",
              "  <thead>\n",
              "    <tr style=\"text-align: right;\">\n",
              "      <th></th>\n",
              "      <th>mfr</th>\n",
              "      <th>type</th>\n",
              "      <th>calories</th>\n",
              "      <th>protein</th>\n",
              "      <th>fat</th>\n",
              "      <th>fiber</th>\n",
              "      <th>sugars</th>\n",
              "      <th>shelf</th>\n",
              "      <th>rating</th>\n",
              "    </tr>\n",
              "  </thead>\n",
              "  <tbody>\n",
              "    <tr>\n",
              "      <th>0</th>\n",
              "      <td>N</td>\n",
              "      <td>C</td>\n",
              "      <td>NaN</td>\n",
              "      <td>4</td>\n",
              "      <td>1.0</td>\n",
              "      <td>10.0</td>\n",
              "      <td>6.0</td>\n",
              "      <td>top</td>\n",
              "      <td>68.402973</td>\n",
              "    </tr>\n",
              "    <tr>\n",
              "      <th>1</th>\n",
              "      <td>Q</td>\n",
              "      <td>C</td>\n",
              "      <td>120.0</td>\n",
              "      <td>3</td>\n",
              "      <td>5.0</td>\n",
              "      <td>2.0</td>\n",
              "      <td>8.0</td>\n",
              "      <td>top</td>\n",
              "      <td>33.983679</td>\n",
              "    </tr>\n",
              "    <tr>\n",
              "      <th>2</th>\n",
              "      <td>K</td>\n",
              "      <td>C</td>\n",
              "      <td>70.0</td>\n",
              "      <td>4</td>\n",
              "      <td>1.0</td>\n",
              "      <td>9.0</td>\n",
              "      <td>5.0</td>\n",
              "      <td>top</td>\n",
              "      <td>59.425505</td>\n",
              "    </tr>\n",
              "    <tr>\n",
              "      <th>3</th>\n",
              "      <td>K</td>\n",
              "      <td>C</td>\n",
              "      <td>50.0</td>\n",
              "      <td>4</td>\n",
              "      <td>0.0</td>\n",
              "      <td>14.0</td>\n",
              "      <td>0.0</td>\n",
              "      <td>top</td>\n",
              "      <td>93.704912</td>\n",
              "    </tr>\n",
              "    <tr>\n",
              "      <th>4</th>\n",
              "      <td>R</td>\n",
              "      <td>C</td>\n",
              "      <td>NaN</td>\n",
              "      <td>2</td>\n",
              "      <td>2.0</td>\n",
              "      <td>1.0</td>\n",
              "      <td>8.0</td>\n",
              "      <td>NaN</td>\n",
              "      <td>34.384843</td>\n",
              "    </tr>\n",
              "  </tbody>\n",
              "</table>\n",
              "</div>\n",
              "    <div class=\"colab-df-buttons\">\n",
              "\n",
              "  <div class=\"colab-df-container\">\n",
              "    <button class=\"colab-df-convert\" onclick=\"convertToInteractive('df-363b4769-8c5a-4213-adbf-6f13d1d4e3a7')\"\n",
              "            title=\"Convert this dataframe to an interactive table.\"\n",
              "            style=\"display:none;\">\n",
              "\n",
              "  <svg xmlns=\"http://www.w3.org/2000/svg\" height=\"24px\" viewBox=\"0 -960 960 960\">\n",
              "    <path d=\"M120-120v-720h720v720H120Zm60-500h600v-160H180v160Zm220 220h160v-160H400v160Zm0 220h160v-160H400v160ZM180-400h160v-160H180v160Zm440 0h160v-160H620v160ZM180-180h160v-160H180v160Zm440 0h160v-160H620v160Z\"/>\n",
              "  </svg>\n",
              "    </button>\n",
              "\n",
              "  <style>\n",
              "    .colab-df-container {\n",
              "      display:flex;\n",
              "      gap: 12px;\n",
              "    }\n",
              "\n",
              "    .colab-df-convert {\n",
              "      background-color: #E8F0FE;\n",
              "      border: none;\n",
              "      border-radius: 50%;\n",
              "      cursor: pointer;\n",
              "      display: none;\n",
              "      fill: #1967D2;\n",
              "      height: 32px;\n",
              "      padding: 0 0 0 0;\n",
              "      width: 32px;\n",
              "    }\n",
              "\n",
              "    .colab-df-convert:hover {\n",
              "      background-color: #E2EBFA;\n",
              "      box-shadow: 0px 1px 2px rgba(60, 64, 67, 0.3), 0px 1px 3px 1px rgba(60, 64, 67, 0.15);\n",
              "      fill: #174EA6;\n",
              "    }\n",
              "\n",
              "    .colab-df-buttons div {\n",
              "      margin-bottom: 4px;\n",
              "    }\n",
              "\n",
              "    [theme=dark] .colab-df-convert {\n",
              "      background-color: #3B4455;\n",
              "      fill: #D2E3FC;\n",
              "    }\n",
              "\n",
              "    [theme=dark] .colab-df-convert:hover {\n",
              "      background-color: #434B5C;\n",
              "      box-shadow: 0px 1px 3px 1px rgba(0, 0, 0, 0.15);\n",
              "      filter: drop-shadow(0px 1px 2px rgba(0, 0, 0, 0.3));\n",
              "      fill: #FFFFFF;\n",
              "    }\n",
              "  </style>\n",
              "\n",
              "    <script>\n",
              "      const buttonEl =\n",
              "        document.querySelector('#df-363b4769-8c5a-4213-adbf-6f13d1d4e3a7 button.colab-df-convert');\n",
              "      buttonEl.style.display =\n",
              "        google.colab.kernel.accessAllowed ? 'block' : 'none';\n",
              "\n",
              "      async function convertToInteractive(key) {\n",
              "        const element = document.querySelector('#df-363b4769-8c5a-4213-adbf-6f13d1d4e3a7');\n",
              "        const dataTable =\n",
              "          await google.colab.kernel.invokeFunction('convertToInteractive',\n",
              "                                                    [key], {});\n",
              "        if (!dataTable) return;\n",
              "\n",
              "        const docLinkHtml = 'Like what you see? Visit the ' +\n",
              "          '<a target=\"_blank\" href=https://colab.research.google.com/notebooks/data_table.ipynb>data table notebook</a>'\n",
              "          + ' to learn more about interactive tables.';\n",
              "        element.innerHTML = '';\n",
              "        dataTable['output_type'] = 'display_data';\n",
              "        await google.colab.output.renderOutput(dataTable, element);\n",
              "        const docLink = document.createElement('div');\n",
              "        docLink.innerHTML = docLinkHtml;\n",
              "        element.appendChild(docLink);\n",
              "      }\n",
              "    </script>\n",
              "  </div>\n",
              "\n",
              "\n",
              "<div id=\"df-10e0ed25-e117-4c4b-be0b-9b9f696198b3\">\n",
              "  <button class=\"colab-df-quickchart\" onclick=\"quickchart('df-10e0ed25-e117-4c4b-be0b-9b9f696198b3')\"\n",
              "            title=\"Suggest charts\"\n",
              "            style=\"display:none;\">\n",
              "\n",
              "<svg xmlns=\"http://www.w3.org/2000/svg\" height=\"24px\"viewBox=\"0 0 24 24\"\n",
              "     width=\"24px\">\n",
              "    <g>\n",
              "        <path d=\"M19 3H5c-1.1 0-2 .9-2 2v14c0 1.1.9 2 2 2h14c1.1 0 2-.9 2-2V5c0-1.1-.9-2-2-2zM9 17H7v-7h2v7zm4 0h-2V7h2v10zm4 0h-2v-4h2v4z\"/>\n",
              "    </g>\n",
              "</svg>\n",
              "  </button>\n",
              "\n",
              "<style>\n",
              "  .colab-df-quickchart {\n",
              "      --bg-color: #E8F0FE;\n",
              "      --fill-color: #1967D2;\n",
              "      --hover-bg-color: #E2EBFA;\n",
              "      --hover-fill-color: #174EA6;\n",
              "      --disabled-fill-color: #AAA;\n",
              "      --disabled-bg-color: #DDD;\n",
              "  }\n",
              "\n",
              "  [theme=dark] .colab-df-quickchart {\n",
              "      --bg-color: #3B4455;\n",
              "      --fill-color: #D2E3FC;\n",
              "      --hover-bg-color: #434B5C;\n",
              "      --hover-fill-color: #FFFFFF;\n",
              "      --disabled-bg-color: #3B4455;\n",
              "      --disabled-fill-color: #666;\n",
              "  }\n",
              "\n",
              "  .colab-df-quickchart {\n",
              "    background-color: var(--bg-color);\n",
              "    border: none;\n",
              "    border-radius: 50%;\n",
              "    cursor: pointer;\n",
              "    display: none;\n",
              "    fill: var(--fill-color);\n",
              "    height: 32px;\n",
              "    padding: 0;\n",
              "    width: 32px;\n",
              "  }\n",
              "\n",
              "  .colab-df-quickchart:hover {\n",
              "    background-color: var(--hover-bg-color);\n",
              "    box-shadow: 0 1px 2px rgba(60, 64, 67, 0.3), 0 1px 3px 1px rgba(60, 64, 67, 0.15);\n",
              "    fill: var(--button-hover-fill-color);\n",
              "  }\n",
              "\n",
              "  .colab-df-quickchart-complete:disabled,\n",
              "  .colab-df-quickchart-complete:disabled:hover {\n",
              "    background-color: var(--disabled-bg-color);\n",
              "    fill: var(--disabled-fill-color);\n",
              "    box-shadow: none;\n",
              "  }\n",
              "\n",
              "  .colab-df-spinner {\n",
              "    border: 2px solid var(--fill-color);\n",
              "    border-color: transparent;\n",
              "    border-bottom-color: var(--fill-color);\n",
              "    animation:\n",
              "      spin 1s steps(1) infinite;\n",
              "  }\n",
              "\n",
              "  @keyframes spin {\n",
              "    0% {\n",
              "      border-color: transparent;\n",
              "      border-bottom-color: var(--fill-color);\n",
              "      border-left-color: var(--fill-color);\n",
              "    }\n",
              "    20% {\n",
              "      border-color: transparent;\n",
              "      border-left-color: var(--fill-color);\n",
              "      border-top-color: var(--fill-color);\n",
              "    }\n",
              "    30% {\n",
              "      border-color: transparent;\n",
              "      border-left-color: var(--fill-color);\n",
              "      border-top-color: var(--fill-color);\n",
              "      border-right-color: var(--fill-color);\n",
              "    }\n",
              "    40% {\n",
              "      border-color: transparent;\n",
              "      border-right-color: var(--fill-color);\n",
              "      border-top-color: var(--fill-color);\n",
              "    }\n",
              "    60% {\n",
              "      border-color: transparent;\n",
              "      border-right-color: var(--fill-color);\n",
              "    }\n",
              "    80% {\n",
              "      border-color: transparent;\n",
              "      border-right-color: var(--fill-color);\n",
              "      border-bottom-color: var(--fill-color);\n",
              "    }\n",
              "    90% {\n",
              "      border-color: transparent;\n",
              "      border-bottom-color: var(--fill-color);\n",
              "    }\n",
              "  }\n",
              "</style>\n",
              "\n",
              "  <script>\n",
              "    async function quickchart(key) {\n",
              "      const quickchartButtonEl =\n",
              "        document.querySelector('#' + key + ' button');\n",
              "      quickchartButtonEl.disabled = true;  // To prevent multiple clicks.\n",
              "      quickchartButtonEl.classList.add('colab-df-spinner');\n",
              "      try {\n",
              "        const charts = await google.colab.kernel.invokeFunction(\n",
              "            'suggestCharts', [key], {});\n",
              "      } catch (error) {\n",
              "        console.error('Error during call to suggestCharts:', error);\n",
              "      }\n",
              "      quickchartButtonEl.classList.remove('colab-df-spinner');\n",
              "      quickchartButtonEl.classList.add('colab-df-quickchart-complete');\n",
              "    }\n",
              "    (() => {\n",
              "      let quickchartButtonEl =\n",
              "        document.querySelector('#df-10e0ed25-e117-4c4b-be0b-9b9f696198b3 button');\n",
              "      quickchartButtonEl.style.display =\n",
              "        google.colab.kernel.accessAllowed ? 'block' : 'none';\n",
              "    })();\n",
              "  </script>\n",
              "</div>\n",
              "\n",
              "    </div>\n",
              "  </div>\n"
            ],
            "application/vnd.google.colaboratory.intrinsic+json": {
              "type": "dataframe",
              "variable_name": "df",
              "summary": "{\n  \"name\": \"df\",\n  \"rows\": 77,\n  \"fields\": [\n    {\n      \"column\": \"mfr\",\n      \"properties\": {\n        \"dtype\": \"category\",\n        \"num_unique_values\": 7,\n        \"samples\": [\n          \"N\",\n          \"Q\",\n          \"P\"\n        ],\n        \"semantic_type\": \"\",\n        \"description\": \"\"\n      }\n    },\n    {\n      \"column\": \"type\",\n      \"properties\": {\n        \"dtype\": \"category\",\n        \"num_unique_values\": 2,\n        \"samples\": [\n          \"H\",\n          \"C\"\n        ],\n        \"semantic_type\": \"\",\n        \"description\": \"\"\n      }\n    },\n    {\n      \"column\": \"calories\",\n      \"properties\": {\n        \"dtype\": \"number\",\n        \"std\": 18.86240433612834,\n        \"min\": 50.0,\n        \"max\": 160.0,\n        \"num_unique_values\": 11,\n        \"samples\": [\n          90.0,\n          120.0\n        ],\n        \"semantic_type\": \"\",\n        \"description\": \"\"\n      }\n    },\n    {\n      \"column\": \"protein\",\n      \"properties\": {\n        \"dtype\": \"number\",\n        \"std\": 1,\n        \"min\": 1,\n        \"max\": 6,\n        \"num_unique_values\": 6,\n        \"samples\": [\n          4,\n          3\n        ],\n        \"semantic_type\": \"\",\n        \"description\": \"\"\n      }\n    },\n    {\n      \"column\": \"fat\",\n      \"properties\": {\n        \"dtype\": \"number\",\n        \"std\": 1.0276709884274668,\n        \"min\": 0.0,\n        \"max\": 5.0,\n        \"num_unique_values\": 5,\n        \"samples\": [\n          5.0,\n          3.0\n        ],\n        \"semantic_type\": \"\",\n        \"description\": \"\"\n      }\n    },\n    {\n      \"column\": \"fiber\",\n      \"properties\": {\n        \"dtype\": \"number\",\n        \"std\": 2.436513820520112,\n        \"min\": 0.0,\n        \"max\": 14.0,\n        \"num_unique_values\": 13,\n        \"samples\": [\n          2.7,\n          5.0\n        ],\n        \"semantic_type\": \"\",\n        \"description\": \"\"\n      }\n    },\n    {\n      \"column\": \"sugars\",\n      \"properties\": {\n        \"dtype\": \"number\",\n        \"std\": 4.457896030879679,\n        \"min\": -1.0,\n        \"max\": 15.0,\n        \"num_unique_values\": 17,\n        \"samples\": [\n          6.0,\n          8.0\n        ],\n        \"semantic_type\": \"\",\n        \"description\": \"\"\n      }\n    },\n    {\n      \"column\": \"shelf\",\n      \"properties\": {\n        \"dtype\": \"category\",\n        \"num_unique_values\": 3,\n        \"samples\": [\n          \"top\",\n          \"bottom\"\n        ],\n        \"semantic_type\": \"\",\n        \"description\": \"\"\n      }\n    },\n    {\n      \"column\": \"rating\",\n      \"properties\": {\n        \"dtype\": \"number\",\n        \"std\": 14.04728874373522,\n        \"min\": 18.042851,\n        \"max\": 93.704912,\n        \"num_unique_values\": 77,\n        \"samples\": [\n          34.384843,\n          21.871292\n        ],\n        \"semantic_type\": \"\",\n        \"description\": \"\"\n      }\n    }\n  ]\n}"
            }
          },
          "metadata": {},
          "execution_count": 132
        }
      ]
    },
    {
      "cell_type": "code",
      "source": [
        "# The target we are trying to predict\n",
        "y = df['rating']\n",
        "# The features we will use to make the prediction\n",
        "X = df.drop(columns = 'rating')\n",
        "X.columns"
      ],
      "metadata": {
        "colab": {
          "base_uri": "https://localhost:8080/"
        },
        "id": "c4sbRAmoLb7P",
        "outputId": "e9049204-6c0e-41a1-b93f-41321d38b71d"
      },
      "execution_count": 133,
      "outputs": [
        {
          "output_type": "execute_result",
          "data": {
            "text/plain": [
              "Index(['mfr', 'type', 'calories', 'protein', 'fat', 'fiber', 'sugars',\n",
              "       'shelf'],\n",
              "      dtype='object')"
            ]
          },
          "metadata": {},
          "execution_count": 133
        }
      ]
    },
    {
      "cell_type": "code",
      "source": [
        "# Train test split\n",
        "X_train, X_test, y_train, y_test = train_test_split(X, y, random_state=42)\n",
        "# Display the number of null values in X_train.\n",
        "X_train.isna().sum()"
      ],
      "metadata": {
        "colab": {
          "base_uri": "https://localhost:8080/"
        },
        "id": "jTSANqqCOhuz",
        "outputId": "8af99930-e150-4273-a64c-fdb841f6debe"
      },
      "execution_count": 134,
      "outputs": [
        {
          "output_type": "execute_result",
          "data": {
            "text/plain": [
              "mfr         2\n",
              "type        0\n",
              "calories    0\n",
              "protein     0\n",
              "fat         5\n",
              "fiber       5\n",
              "sugars      5\n",
              "shelf       0\n",
              "dtype: int64"
            ]
          },
          "metadata": {},
          "execution_count": 134
        }
      ]
    },
    {
      "cell_type": "code",
      "source": [
        "# Get the list of numeric column names\n",
        "numeric_cols = X_train.select_dtypes(\"number\").columns\n",
        "\n",
        "# Get the list of categorical\n",
        "categorical_cols = X_train.select_dtypes(\"object\").columns\n",
        "# drop the ordinal from this list\n",
        "categorical_cols = categorical_cols.drop('shelf')\n",
        "\n",
        "# Get the list of categorical and ordinal column names\n",
        "ordinal_cols = pd.Index(['shelf'])\n"
      ],
      "metadata": {
        "id": "27g2-Q_0Pq9r"
      },
      "execution_count": 135,
      "outputs": []
    },
    {
      "cell_type": "markdown",
      "source": [
        "### Impute the numeric columns"
      ],
      "metadata": {
        "id": "FoJKTCs4Uuh5"
      }
    },
    {
      "cell_type": "code",
      "source": [
        "# Instantiate the imputer object from the SimpleImputer class with strategy 'median'\n",
        "impute_median = SimpleImputer(strategy='median')\n",
        "# Fit the imputer object on the numeric training data with .fit()\n",
        "impute_median.fit(X_train[numeric_cols])\n",
        "# Transform the training data\n",
        "X_train_num_imputed = impute_median.transform(X_train[numeric_cols])\n",
        "# Transfrom the testing data\n",
        "X_test_num_imputed = impute_median.transform(X_test[numeric_cols])\n",
        "\n",
        "X_train_num_imputed.isna().sum().sum()"
      ],
      "metadata": {
        "colab": {
          "base_uri": "https://localhost:8080/"
        },
        "id": "g6BEy-ZZTu6B",
        "outputId": "816f4205-c4c8-433f-9ef6-c1e5b2b1e22f"
      },
      "execution_count": 136,
      "outputs": [
        {
          "output_type": "execute_result",
          "data": {
            "text/plain": [
              "0"
            ]
          },
          "metadata": {},
          "execution_count": 136
        }
      ]
    },
    {
      "cell_type": "markdown",
      "source": [
        "### Impute the categorical features\n"
      ],
      "metadata": {
        "id": "TEZouVvKU9aN"
      }
    },
    {
      "cell_type": "code",
      "source": [
        "# Instantiate the imputer with the desired strategy\n",
        "impute_na = SimpleImputer(strategy='constant', fill_value='MISSING')\n",
        "# Fit the imputer object on the training data with .fit\n",
        "impute_na.fit(X_train[categorical_cols])\n",
        "# Transform the categorical training data\n",
        "X_train_cat_imputed = impute_na.transform(X_train[categorical_cols])\n",
        "# Transform the categorical testing data\n",
        "X_test_cat_imputed = impute_na.transform(X_test[categorical_cols])\n",
        "X_train_cat_imputed.isna().sum().sum()"
      ],
      "metadata": {
        "colab": {
          "base_uri": "https://localhost:8080/"
        },
        "id": "0TzFPrJkU-h5",
        "outputId": "437e73cd-a6b1-421a-8c85-c7d7db5d46ef"
      },
      "execution_count": 137,
      "outputs": [
        {
          "output_type": "execute_result",
          "data": {
            "text/plain": [
              "0"
            ]
          },
          "metadata": {},
          "execution_count": 137
        }
      ]
    },
    {
      "cell_type": "markdown",
      "source": [
        "### Impute the ordinal features"
      ],
      "metadata": {
        "id": "89Kuf6R6VTFI"
      }
    },
    {
      "cell_type": "code",
      "source": [
        "# Instantiate the imputer with the desired strategy\n",
        "impute_na = SimpleImputer(strategy='most_frequent' )\n",
        "# Fit the imputer object on the training data with .fit\n",
        "impute_na.fit(X_train[ordinal_cols])\n",
        "# Transform the categorical training data\n",
        "X_train_ord_imputed = impute_na.transform(X_train[ordinal_cols])\n",
        "# Transform the categorical testing data\n",
        "X_test_ord_imputed = impute_na.transform(X_test[ordinal_cols])\n",
        "X_train_ord_imputed.isna().sum().sum()"
      ],
      "metadata": {
        "colab": {
          "base_uri": "https://localhost:8080/"
        },
        "id": "VIs-E_sWVUjW",
        "outputId": "2afd09f3-c045-4d93-a7e8-96c1a8a943b0"
      },
      "execution_count": 138,
      "outputs": [
        {
          "output_type": "execute_result",
          "data": {
            "text/plain": [
              "0"
            ]
          },
          "metadata": {},
          "execution_count": 138
        }
      ]
    }
  ]
}